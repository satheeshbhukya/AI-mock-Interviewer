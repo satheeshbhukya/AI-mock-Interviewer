{
 "cells": [
  {
   "cell_type": "markdown",
   "id": "1da413f8",
   "metadata": {
    "_cell_guid": "b1076dfc-b9ad-4769-8c92-a6c4dae69d19",
    "_uuid": "8f2839f25d086af736a60e9eeb907d3b93b6e0e5",
    "papermill": {
     "duration": 0.013083,
     "end_time": "2025-05-30T17:19:50.870368",
     "exception": false,
     "start_time": "2025-05-30T17:19:50.857285",
     "status": "completed"
    },
    "tags": []
   },
   "source": [
    "##   **Mock Technical Interviewer with Gemini and LangGraph**"
   ]
  },
  {
   "cell_type": "markdown",
   "id": "537f7bba",
   "metadata": {
    "papermill": {
     "duration": 0.01123,
     "end_time": "2025-05-30T17:19:50.893232",
     "exception": false,
     "start_time": "2025-05-30T17:19:50.882002",
     "status": "completed"
    },
    "tags": []
   },
   "source": [
    "## 1. Introduction: Bridging the Technical Interview Preparation Gap with GenAI"
   ]
  },
  {
   "cell_type": "markdown",
   "id": "c0a5076b",
   "metadata": {
    "papermill": {
     "duration": 0.010207,
     "end_time": "2025-05-30T17:19:50.914201",
     "exception": false,
     "start_time": "2025-05-30T17:19:50.903994",
     "status": "completed"
    },
    "tags": []
   },
   "source": [
    "**The Problem: The High Stakes and Limitations of Traditional Technical Interview Practice**  \n",
    "\n",
    "Preparing for technical interviews in the competitive tech industry is a critical yet often inefficient and stressful process. Candidates frequently encounter limitations such as:\n",
    "\n",
    "* Lack of Realistic Simulation: Existing resources often fail to replicate the dynamic, conversational nature and pressure of a real technical interview.\n",
    "* Subjective and Delayed Feedback: Feedback from human mock interviews can be subjective, inconsistent, and often comes with delays, hindering rapid learning.\n",
    "* Limited Accessibility and Scalability: Access to experienced human interviewers for practice is often restricted by cost and availability.\n",
    "Difficulty in Identifying Specific Weaknesses: Candidates may struggle to pinpoint precise areas for improvement beyond general feedback.\n",
    "\n",
    "\n",
    "\n",
    "**The Solution: An Intelligent GenAI-Powered Mock Interview Platform** \n",
    "\n",
    "This project introduces an innovative solution: an intelligent, AI-driven Mock Technical Interview Platform designed to provide realistic, interactive, and personalized interview practice. By harnessing the advanced capabilities of Google's Gemini models and the LangGraph framework, this platform offers a transformative approach to technical interview preparation.\n",
    "\n",
    "Key Features:\n",
    "\n",
    "* Dynamic Interview Simulation (LangGraph Agents): Employs LangGraph agents powered by Gemini to create a stateful, multi-turn conversational experience that mirrors a real technical interview, guiding candidates through problem-solving.\n",
    "* Interactive Problem Engagement (Gemini): Allows candidates to engage with coding problems through text, code input, and even visual explanations via whiteboard sketches interpreted by Gemini's image understanding capabilities.\n",
    "* Intelligent Guidance and Probing (Few-Shot Learning): Leverages few-shot learning within prompts to enable Gemini to provide contextually relevant hints, ask clarifying questions, and adapt its approach based on the candidate's responses, mimicking the nuanced interaction of a human interviewer.\n",
    "* Knowledge Retrieval for Questioning (Function Calling): Utilizes function calling to dynamically retrieve relevant interview questions from a database, ensuring a diverse and potentially tailored interview experience.\n",
    "* Comprehensive and Structured Performance Evaluation (Structured Output): Generates detailed, structured reports using Gemini's controlled generation capabilities, objectively assessing technical proficiency, problem-solving methodology, communication clarity, and code quality.\n",
    "* Personalized Learning and Skill Enhancement (Grounding): Employs Gemini's grounding capabilities (integrating with external knowledge sources) to analyze the interview performance and generate a targeted learning plan with relevant resources, directly addressing identified weaknesses.\n",
    "* Contextual Awareness and Long-Term Analysis (Long Context Window): Leverages Gemini's long context window to maintain a comprehensive understanding of the entire interview conversation, enabling nuanced feedback and holistic performance analysis.\n",
    "  \n",
    "**Innovation & Use Case Suitability** \n",
    "\n",
    "This project represents a significant step forward in technical interview preparation through its creative and impactful application of Generative AI.\n",
    "\n",
    "* Novelty: It goes beyond simple Q&A by constructing a sophisticated, stateful interviewing agent capable of understanding multimodal input, providing adaptive guidance, and generating nuanced evaluations – a level of interaction previously only achievable with human interviewers. The integration of whiteboard understanding directly into a technical interview simulation is particularly novel.\n",
    "* Impact: This platform has the potential to democratize access to high-quality interview practice, enabling a wider range of candidates to prepare effectively, reduce interview anxiety, and ultimately improve their chances of success in the competitive tech job market. Its scalability allows for widespread adoption and consistent, objective feedback.\n",
    "* GenAI Suitability: The project's core functionalities are exceptionally well-suited to the strengths of modern GenAI models like Gemini:\n",
    "* Natural Language Understanding and Generation: Crucial for engaging in a realistic dialogue, interpreting candidate responses, and formulating insightful questions and feedback.\n",
    "* Code Understanding and Generation: Essential for interacting with code snippets provided by the candidate and even generating follow-up questions based on the code.\n",
    "* Image Understanding: Enables the innovative feature of interpreting whiteboard sketches, a common element in real technical interviews.\n",
    "* Structured Output and Function Calling: Allows for the systematic retrieval of questions and the generation of organized and informative performance reports.\n",
    "* Agentic Capabilities (LangGraph): Necessary for orchestrating the complex, multi-step process of a technical interview, managing state, and directing the flow of the conversation.\n",
    "* Long Context Window: Enables the AI to maintain context throughout the interview for more accurate and relevant feedback.\n",
    "* Grounding: Facilitates the generation of personalized and actionable learning plans based on external knowledge.\n",
    "By seamlessly integrating these advanced GenAI capabilities, this project offers a powerful and innovative solution to the persistent challenges of technical interview preparation.\n",
    "\n"
   ]
  },
  {
   "cell_type": "markdown",
   "id": "1c83c164",
   "metadata": {
    "papermill": {
     "duration": 0.010509,
     "end_time": "2025-05-30T17:19:50.936027",
     "exception": false,
     "start_time": "2025-05-30T17:19:50.925518",
     "status": "completed"
    },
    "tags": []
   },
   "source": [
    "**IMPORTANT** \n",
    "\n",
    "The app built in this notebook uses Gradio launch function to run an UI interface. This section is commented-out to ensure that you can use the Run all feature without interruption. At the end of this notebook you will need to uncomment the demo.launch(...) call in order to interact with the app.\n",
    "\n",
    "If you wish to save a version of this notebook with Save and Run all, you will need to re-comment the line you commented out to ensure that the notebook can run without human input."
   ]
  },
  {
   "cell_type": "markdown",
   "id": "8a5c935f",
   "metadata": {
    "papermill": {
     "duration": 0.009967,
     "end_time": "2025-05-30T17:19:50.956714",
     "exception": false,
     "start_time": "2025-05-30T17:19:50.946747",
     "status": "completed"
    },
    "tags": []
   },
   "source": [
    "## 2. Environment Setup \n",
    "\n",
    "This section handles the necessary setup for the project environment.\n",
    "\n",
    "* Package Installation: We first uninstall potentially conflicting default Kaggle packages and then install the required libraries:\n",
    "* gradio: For building the interactive web UI.\n",
    "* langgraph: The core framework for building the stateful agent.\n",
    "* langchain-google-genai: Provides LangChain integrations for Gemini models.\n",
    "* langgraph-prebuilt: Contains pre-built LangGraph components (though we build custom ones).\n",
    "* google-genai: Provides an interface to integrate Google's generative models.\n",
    "* Other dependencies implicitly installed include langchain-core, pydantic, etc.\n",
    "* Library Imports: We import standard Python libraries, third-party tools (like gradio, pandas, PIL), and specific components from langchain, langgraph, and google.genai.\n",
    "* API Key Configuration: We securely load the GOOGLE_API_KEY using Kaggle Secrets and set it as an environment variable for the Gemini client."
   ]
  },
  {
   "cell_type": "code",
   "execution_count": 1,
   "id": "0a1d8cc6",
   "metadata": {
    "execution": {
     "iopub.execute_input": "2025-05-30T17:19:50.980003Z",
     "iopub.status.busy": "2025-05-30T17:19:50.979678Z",
     "iopub.status.idle": "2025-05-30T17:20:35.941771Z",
     "shell.execute_reply": "2025-05-30T17:20:35.940386Z"
    },
    "papermill": {
     "duration": 44.976385,
     "end_time": "2025-05-30T17:20:35.944162",
     "exception": false,
     "start_time": "2025-05-30T17:19:50.967777",
     "status": "completed"
    },
    "tags": []
   },
   "outputs": [],
   "source": [
    "%%capture\n",
    "!pip uninstall -qqy jupyterlab libpysal thinc spacy fastai ydata-profiling google-cloud-bigquery google-generativeai pydantic\n",
    "\n",
    "!pip install -qqU gradio==5.24.0 langgraph==0.3.21 langchain-google-genai==2.1.2 langgraph-prebuilt==0.1.7 google-genai==1.7.0"
   ]
  },
  {
   "cell_type": "code",
   "execution_count": 2,
   "id": "d8dbc297",
   "metadata": {
    "execution": {
     "iopub.execute_input": "2025-05-30T17:20:35.969084Z",
     "iopub.status.busy": "2025-05-30T17:20:35.968712Z",
     "iopub.status.idle": "2025-05-30T17:20:46.408949Z",
     "shell.execute_reply": "2025-05-30T17:20:46.407701Z"
    },
    "papermill": {
     "duration": 10.454404,
     "end_time": "2025-05-30T17:20:46.410692",
     "exception": false,
     "start_time": "2025-05-30T17:20:35.956288",
     "status": "completed"
    },
    "tags": []
   },
   "outputs": [
    {
     "data": {
      "text/plain": [
       "('1.7.0', '5.24.0')"
      ]
     },
     "execution_count": 2,
     "metadata": {},
     "output_type": "execute_result"
    }
   ],
   "source": [
    "# Standard Library\n",
    "import base64\n",
    "import json\n",
    "import os\n",
    "from io import BytesIO\n",
    "from IPython.display import Image, display\n",
    "from typing import Annotated, List, Literal, Optional, TypedDict, Union, Dict, Any, Tuple\n",
    "\n",
    "# Third-Party\n",
    "import gradio as gr\n",
    "import numpy as np\n",
    "import pandas as pd\n",
    "import PIL.Image\n",
    "import requests\n",
    "from google import genai\n",
    "from google.genai import types\n",
    "from IPython.display import Image, Markdown, display\n",
    "from jinja2 import Template\n",
    "from kaggle_secrets import UserSecretsClient\n",
    "from langchain_core.messages import BaseMessage \n",
    "from langchain_core.messages.ai import AIMessage\n",
    "from langchain_core.messages.human import HumanMessage\n",
    "from langchain_core.messages.system import SystemMessage\n",
    "from langchain_core.messages.tool import ToolMessage\n",
    "from langchain_core.runnables import Runnable\n",
    "from langchain_core.tools import BaseTool, tool\n",
    "from langchain_google_genai import ChatGoogleGenerativeAI\n",
    "from langgraph.graph import END, START, StateGraph \n",
    "from langgraph.graph.message import add_messages\n",
    "from langgraph.prebuilt import ToolNode\n",
    "from pydantic import BaseModel, Field, ConfigDict\n",
    "\n",
    "genai.__version__, gr.__version__"
   ]
  },
  {
   "cell_type": "markdown",
   "id": "556cfe29",
   "metadata": {
    "papermill": {
     "duration": 0.011833,
     "end_time": "2025-05-30T17:20:46.433480",
     "exception": false,
     "start_time": "2025-05-30T17:20:46.421647",
     "status": "completed"
    },
    "tags": []
   },
   "source": [
    "**Loading secrets**"
   ]
  },
  {
   "cell_type": "markdown",
   "id": "1b7ed83c",
   "metadata": {
    "papermill": {
     "duration": 0.010604,
     "end_time": "2025-05-30T17:20:46.454585",
     "exception": false,
     "start_time": "2025-05-30T17:20:46.443981",
     "status": "completed"
    },
    "tags": []
   },
   "source": [
    "To run the following cell, your API key must be stored it in a Kaggle secret named **GOOGLE_API_KEY**.\n",
    "\n",
    "If you don't already have an API key, you can grab one from **AI Studio**. You can find detailed instructions in the docs.\n",
    "\n",
    "To make the key available through Kaggle secrets, choose Secrets from the Add-ons menu and follow the instructions to add your key or enable it for this notebook."
   ]
  },
  {
   "cell_type": "code",
   "execution_count": 3,
   "id": "bfa27881",
   "metadata": {
    "execution": {
     "iopub.execute_input": "2025-05-30T17:20:46.478392Z",
     "iopub.status.busy": "2025-05-30T17:20:46.477465Z",
     "iopub.status.idle": "2025-05-30T17:20:46.654578Z",
     "shell.execute_reply": "2025-05-30T17:20:46.653037Z"
    },
    "papermill": {
     "duration": 0.191077,
     "end_time": "2025-05-30T17:20:46.656658",
     "exception": false,
     "start_time": "2025-05-30T17:20:46.465581",
     "status": "completed"
    },
    "tags": []
   },
   "outputs": [],
   "source": [
    "GOOGLE_API_KEY = UserSecretsClient().get_secret(\"GOOGLE_API_KEY\")\n",
    "os.environ[\"GOOGLE_API_KEY\"] = GOOGLE_API_KEY"
   ]
  },
  {
   "cell_type": "markdown",
   "id": "ff3623fb",
   "metadata": {
    "papermill": {
     "duration": 0.010516,
     "end_time": "2025-05-30T17:20:46.679342",
     "exception": false,
     "start_time": "2025-05-30T17:20:46.668826",
     "status": "completed"
    },
    "tags": []
   },
   "source": [
    "**Automated retry**\n",
    "\n",
    "Set up an automatic retry that ensures your requests are retried when per-minute quota is reached."
   ]
  },
  {
   "cell_type": "code",
   "execution_count": 4,
   "id": "be89c319",
   "metadata": {
    "execution": {
     "iopub.execute_input": "2025-05-30T17:20:46.704554Z",
     "iopub.status.busy": "2025-05-30T17:20:46.703864Z",
     "iopub.status.idle": "2025-05-30T17:20:46.709989Z",
     "shell.execute_reply": "2025-05-30T17:20:46.709015Z"
    },
    "papermill": {
     "duration": 0.020053,
     "end_time": "2025-05-30T17:20:46.711644",
     "exception": false,
     "start_time": "2025-05-30T17:20:46.691591",
     "status": "completed"
    },
    "tags": []
   },
   "outputs": [],
   "source": [
    "from google.api_core import retry\n",
    "\n",
    "is_retriable = lambda e: (isinstance(e, genai.errors.APIError) and e.code in {429, 503})\n",
    "\n",
    "if not hasattr(genai.models.Models.generate_content, '__wrapped__'):\n",
    "  genai.models.Models.generate_content = retry.Retry(\n",
    "      predicate=is_retriable)(genai.models.Models.generate_content)"
   ]
  },
  {
   "cell_type": "markdown",
   "id": "699c3277",
   "metadata": {
    "papermill": {
     "duration": 0.012063,
     "end_time": "2025-05-30T17:20:46.734845",
     "exception": false,
     "start_time": "2025-05-30T17:20:46.722782",
     "status": "completed"
    },
    "tags": []
   },
   "source": [
    "## 3.Data Preparation: Interview Questions \n",
    "\n",
    "To provide relevant coding challenges, the interviewer needs access to a database of problems.\n",
    "\n",
    "* Data Source: We download a data.json file containing a list of **coding problems**. This file is a simulated database of questions captured on **LeetCode** that includes fields like id, problem_name, topic, difficulty, link, companies, content (problem description), and code (starter code). Data has JSON format and stored using GitHub gists.\n",
    "* Loading Data: The **JSON data** is loaded into a Pandas DataFrame (df) for easy filtering and sampling within the application logic. This DataFrame serves as the knowledge base for the interview questions."
   ]
  },
  {
   "cell_type": "code",
   "execution_count": 5,
   "id": "03a61bf9",
   "metadata": {
    "execution": {
     "iopub.execute_input": "2025-05-30T17:20:46.757770Z",
     "iopub.status.busy": "2025-05-30T17:20:46.757351Z",
     "iopub.status.idle": "2025-05-30T17:20:47.063356Z",
     "shell.execute_reply": "2025-05-30T17:20:47.061663Z"
    },
    "papermill": {
     "duration": 0.320322,
     "end_time": "2025-05-30T17:20:47.065686",
     "exception": false,
     "start_time": "2025-05-30T17:20:46.745364",
     "status": "completed"
    },
    "tags": []
   },
   "outputs": [
    {
     "name": "stdout",
     "output_type": "stream",
     "text": [
      "Download successful! Filename: data.json\r\n"
     ]
    }
   ],
   "source": [
    "!wget -q -O data.json https://gist.githubusercontent.com/satheeshbhukya/1da5301eb2c71590991b0948f1e52b7a/raw/3d9ff2b6c0bbe0460475d7e327340adf1e1bc5f4/data.json && echo 'Download successful! Filename: data.json' || echo 'Download failed!'"
   ]
  },
  {
   "cell_type": "code",
   "execution_count": 6,
   "id": "f3785f7e",
   "metadata": {
    "execution": {
     "iopub.execute_input": "2025-05-30T17:20:47.090340Z",
     "iopub.status.busy": "2025-05-30T17:20:47.089960Z",
     "iopub.status.idle": "2025-05-30T17:20:47.099506Z",
     "shell.execute_reply": "2025-05-30T17:20:47.098105Z"
    },
    "papermill": {
     "duration": 0.02434,
     "end_time": "2025-05-30T17:20:47.101490",
     "exception": false,
     "start_time": "2025-05-30T17:20:47.077150",
     "status": "completed"
    },
    "tags": []
   },
   "outputs": [
    {
     "name": "stdout",
     "output_type": "stream",
     "text": [
      "JSON data loaded successfully!\n"
     ]
    }
   ],
   "source": [
    "file_path = \"data.json\"\n",
    "\n",
    "try:\n",
    "    with open(file_path, 'r') as f:\n",
    "        problems_data = json.load(f)\n",
    "    print(\"JSON data loaded successfully!\")\n",
    "except FileNotFoundError:\n",
    "    print(f\"Error: File not found at {file_path}\")\n",
    "except json.JSONDecodeError:\n",
    "    print(f\"Error: Could not decode JSON from {file_path}. Check the file content.\")"
   ]
  },
  {
   "cell_type": "code",
   "execution_count": 7,
   "id": "235c5e18",
   "metadata": {
    "execution": {
     "iopub.execute_input": "2025-05-30T17:20:47.125023Z",
     "iopub.status.busy": "2025-05-30T17:20:47.124709Z",
     "iopub.status.idle": "2025-05-30T17:20:47.193103Z",
     "shell.execute_reply": "2025-05-30T17:20:47.191617Z"
    },
    "papermill": {
     "duration": 0.082198,
     "end_time": "2025-05-30T17:20:47.195128",
     "exception": false,
     "start_time": "2025-05-30T17:20:47.112930",
     "status": "completed"
    },
    "tags": []
   },
   "outputs": [
    {
     "data": {
      "text/html": [
       "<div>\n",
       "<style scoped>\n",
       "    .dataframe tbody tr th:only-of-type {\n",
       "        vertical-align: middle;\n",
       "    }\n",
       "\n",
       "    .dataframe tbody tr th {\n",
       "        vertical-align: top;\n",
       "    }\n",
       "\n",
       "    .dataframe thead th {\n",
       "        text-align: right;\n",
       "    }\n",
       "</style>\n",
       "<table border=\"1\" class=\"dataframe\">\n",
       "  <thead>\n",
       "    <tr style=\"text-align: right;\">\n",
       "      <th></th>\n",
       "      <th>id</th>\n",
       "      <th>topic</th>\n",
       "      <th>link</th>\n",
       "      <th>problem_name</th>\n",
       "      <th>difficulty</th>\n",
       "      <th>companies</th>\n",
       "      <th>content</th>\n",
       "      <th>code</th>\n",
       "    </tr>\n",
       "  </thead>\n",
       "  <tbody>\n",
       "    <tr>\n",
       "      <th>0</th>\n",
       "      <td>0</td>\n",
       "      <td>Array Manipulation</td>\n",
       "      <td>https://leetcode.com/problems/two-sum</td>\n",
       "      <td>Two sum</td>\n",
       "      <td>Easy</td>\n",
       "      <td>[OpenAI, Google, Amazon, Meta, Netflix, Apple]</td>\n",
       "      <td>Given an array of integers nums and an integer...</td>\n",
       "      <td>class Solution:\\n    def twoSum(self, nums: Li...</td>\n",
       "    </tr>\n",
       "    <tr>\n",
       "      <th>1</th>\n",
       "      <td>1</td>\n",
       "      <td>Array Manipulation</td>\n",
       "      <td>https://leetcode.com/problems/container-with-m...</td>\n",
       "      <td>Container with most water</td>\n",
       "      <td>Medium</td>\n",
       "      <td>[Google, Amazon]</td>\n",
       "      <td>'You are given an integer array height of leng...</td>\n",
       "      <td>class Solution:\\n    def maxArea(self, height:...</td>\n",
       "    </tr>\n",
       "    <tr>\n",
       "      <th>2</th>\n",
       "      <td>2</td>\n",
       "      <td>Array Manipulation</td>\n",
       "      <td>https://leetcode.com/problems/3sum</td>\n",
       "      <td>3sum</td>\n",
       "      <td>Medium</td>\n",
       "      <td>[OpenAI, Google, Amazon, Meta, Netflix, Apple]</td>\n",
       "      <td>Given an integer array nums, return all the tr...</td>\n",
       "      <td>class Solution:\\n    def threeSum(self, nums: ...</td>\n",
       "    </tr>\n",
       "    <tr>\n",
       "      <th>3</th>\n",
       "      <td>3</td>\n",
       "      <td>String Manipulation</td>\n",
       "      <td>https://leetcode.com/problems/longest-substrin...</td>\n",
       "      <td>Longest substring without repeating characters</td>\n",
       "      <td>Medium</td>\n",
       "      <td>[OpenAI, Google, Amazon, Meta, Netflix, Apple]</td>\n",
       "      <td>Given a string s, find the length of the longe...</td>\n",
       "      <td>class Solution:\\n    def lengthOfLongestSubstr...</td>\n",
       "    </tr>\n",
       "    <tr>\n",
       "      <th>4</th>\n",
       "      <td>4</td>\n",
       "      <td>String Manipulation</td>\n",
       "      <td>https://leetcode.com/problems/string-to-intege...</td>\n",
       "      <td>String to integer (atoi)</td>\n",
       "      <td>Medium</td>\n",
       "      <td>[Meta, Amazon]</td>\n",
       "      <td>Implement the myAtoi(string s) function, which...</td>\n",
       "      <td>class Solution:\\n    def myAtoi(self, s: str) ...</td>\n",
       "    </tr>\n",
       "  </tbody>\n",
       "</table>\n",
       "</div>"
      ],
      "text/plain": [
       "   id                topic                                               link  \\\n",
       "0   0   Array Manipulation              https://leetcode.com/problems/two-sum   \n",
       "1   1   Array Manipulation  https://leetcode.com/problems/container-with-m...   \n",
       "2   2   Array Manipulation                 https://leetcode.com/problems/3sum   \n",
       "3   3  String Manipulation  https://leetcode.com/problems/longest-substrin...   \n",
       "4   4  String Manipulation  https://leetcode.com/problems/string-to-intege...   \n",
       "\n",
       "                                     problem_name difficulty  \\\n",
       "0                                         Two sum       Easy   \n",
       "1                       Container with most water     Medium   \n",
       "2                                            3sum     Medium   \n",
       "3  Longest substring without repeating characters     Medium   \n",
       "4                        String to integer (atoi)     Medium   \n",
       "\n",
       "                                        companies  \\\n",
       "0  [OpenAI, Google, Amazon, Meta, Netflix, Apple]   \n",
       "1                                [Google, Amazon]   \n",
       "2  [OpenAI, Google, Amazon, Meta, Netflix, Apple]   \n",
       "3  [OpenAI, Google, Amazon, Meta, Netflix, Apple]   \n",
       "4                                  [Meta, Amazon]   \n",
       "\n",
       "                                             content  \\\n",
       "0  Given an array of integers nums and an integer...   \n",
       "1  'You are given an integer array height of leng...   \n",
       "2  Given an integer array nums, return all the tr...   \n",
       "3  Given a string s, find the length of the longe...   \n",
       "4  Implement the myAtoi(string s) function, which...   \n",
       "\n",
       "                                                code  \n",
       "0  class Solution:\\n    def twoSum(self, nums: Li...  \n",
       "1  class Solution:\\n    def maxArea(self, height:...  \n",
       "2  class Solution:\\n    def threeSum(self, nums: ...  \n",
       "3  class Solution:\\n    def lengthOfLongestSubstr...  \n",
       "4  class Solution:\\n    def myAtoi(self, s: str) ...  "
      ]
     },
     "execution_count": 7,
     "metadata": {},
     "output_type": "execute_result"
    }
   ],
   "source": [
    "df = pd.read_json(file_path)\n",
    "df.head()"
   ]
  },
  {
   "cell_type": "markdown",
   "id": "e5a327c4",
   "metadata": {
    "papermill": {
     "duration": 0.095025,
     "end_time": "2025-05-30T17:20:47.303763",
     "exception": false,
     "start_time": "2025-05-30T17:20:47.208738",
     "status": "completed"
    },
    "tags": []
   },
   "source": [
    " ## 4. Core Logic: The Technical Interviewer Agent (LangGraph) \n",
    " \n",
    "The heart of this application is the agent built using LangGraph, designed to simulate the flow and logic of a technical interview. LangGraph allows us to define a state machine or graph where nodes represent processing steps (like invoking the LLM or tools) and edges represent the flow between these steps.\n",
    "\n",
    "**4.1. Agent Prompts** \n",
    "\n",
    "Prompts are crucial for guiding the Gemini model's behavior. We define several key prompts:\n",
    "\n",
    "* INTERVIEWER_SYSTEM_PROMPT: This is the main prompt defining the AI's persona and core responsibilities.\n",
    "* Persona: A supportive technical interviewer from \"Mock Technologie Inc.\"\n",
    "* Goal: Evaluate the candidate's skills while guiding them through a problem.\n",
    "* Behavior: Ask probing questions, provide graduated hints (Level 1-3), encourage \"thinking out loud,\" confirm understanding.\n",
    "* Constraints: Must use tools to get questions, cannot make up questions, needs confirmation for starting/ending the interview.\n",
    "* Multi-Modal Handling: Explicit instructions on how to analyze and integrate information from whiteboard screenshots seamlessly into the conversation.\n",
    "* Few-Shot Examples: Includes example interactions to demonstrate desired behavior, especially regarding hint provision and whiteboard analysis.\n",
    "* WELCOME_MSG: The initial message the interviewer presents to the user.\n",
    "* CANDIDATE_EVALUATION_PROMPT: Used after the interview ends. It instructs a separate LLM call to analyze the full transcript and final code, evaluating the candidate based on specific criteria (Technical Competence, Problem-Solving, Communication). Crucially, it requests the output in a structured JSON format.\n",
    "* RESOURCES_SEARCH_PROMPT: Used to generate the personalized learning plan. It provides context (interview question, evaluation summary, topics to learn) and instructs the LLM to use the Google Search tool (Grounding) to find relevant resources and synthesize recommendations, without explicitly listing URLs in the text (citations are handled automatically).\n",
    "* DESCRIBE_IMAGE_PROMPT: A specialized prompt used by the get_interview_transcript utility function. When a whiteboard image is present in the user's message, this prompt asks Gemini to describe the image's content and relevance to the ongoing conversation, making the transcript more comprehensive for the final evaluation.\n",
    "\n",
    "**How it solves the problems:**\n",
    "\n",
    "* Lack of Realistic Simulation: The INTERVIEWER_SYSTEM_PROMPT is the foundation of realism. It defines the AI's persona, its pedagogical goals (guiding, not just evaluating), its conversational style (probing questions, graduated hints), and how it should handle multi-modal input like whiteboard sketches. Few-shot examples within the prompt explicitly train the AI on how to interact realistically. The WELCOME_MSG sets a professional tone.\n",
    "\n",
    "* Subjective/Delayed Feedback: The CANDIDATE_EVALUATION_PROMPT sets clear, predefined criteria for evaluation, making the feedback inherently less subjective than varied human opinions. It guides the LLM to focus on specific, observable behaviors.\n",
    "\n",
    "* Difficulty Identifying Weaknesses: The evaluation prompt specifically requests identification of strengths and weaknesses with evidence. The RESOURCES_SEARCH_PROMPT guides the generation of a learning plan directly targeting these identified weaknesses.\n",
    "\n",
    "**Few words about the following prompt**\n",
    "\n",
    "* The first iteration of this prompt was created using materials from the Internet about how to be a good technical interviewer. Then, step by step, I improved this prompt to make the model do what I wanted it to and behave more like a real technical interviewer. Here are a few things that needed to be made to make the model work properly:\n",
    "\n",
    "* Add a line telling the model to ask the user for confirmation (confirmation used to invoke tools)\n",
    "* Accent on the fact, that the model should only take questions from the database (using tools).\n",
    "* While testing, the model could give some strange responses. Using a few examples (few-shot learning) helps mitigate these issues.\n",
    "* Nevertheless, I think there could be a lot more things to change/add to this prompt, but we need to test it more."
   ]
  },
  {
   "cell_type": "code",
   "execution_count": 8,
   "id": "2a38e80c",
   "metadata": {
    "execution": {
     "iopub.execute_input": "2025-05-30T17:20:47.330910Z",
     "iopub.status.busy": "2025-05-30T17:20:47.330498Z",
     "iopub.status.idle": "2025-05-30T17:20:47.341842Z",
     "shell.execute_reply": "2025-05-30T17:20:47.340854Z"
    },
    "papermill": {
     "duration": 0.026766,
     "end_time": "2025-05-30T17:20:47.343641",
     "exception": false,
     "start_time": "2025-05-30T17:20:47.316875",
     "status": "completed"
    },
    "tags": []
   },
   "outputs": [],
   "source": [
    "INTERVIEWER_SYSTEM_PROMPT = '''\n",
    "\n",
    "COMPANY NAME: \"Mock Technologie Inc.\"\n",
    "You are a technical interviewer and an expert in software engineering, technical interviewing, and pedagogical best practices. \n",
    "Your primary goal is to evaluate a candidate's technical skills, problem-solving abilities, and relevant experience to determine if they are a suitable fit for a specific technical role within the company.\n",
    "You should keep the candidate actively engaged and progressing through the given problem. You will provide hints, guidance, and ask probing questions to facilitate the candidate's problem-solving process. \n",
    "You are designed to be supportive, encouraging, and focused on helping the candidate demonstrate their abilities. \n",
    "\n",
    "You should ask user to choose question for the technical interview. User can choose specific question or a random one. You can NOT start the interview if you have not received interview question.\n",
    "You should take questions only from question database. You can access question database ONLY by using tools. Do NOT make up questions!\n",
    "You should ask the candidate (user) to confirm selected question. For example: \"Are you sure that you wants to choose following question: question_name\".\n",
    "You should ask the candidate (user) to confirm that he want to end the interview if you think he wants. For example: \"Are you sure you want to end the interview?\"\n",
    "Only ask probing questions or give hints if you think the candidate is struggling.\n",
    "\n",
    "\n",
    "**I. Core Principles:**\n",
    "\n",
    "*   **Facilitating Problem-Solving:** Your focus is on guiding the candidate through the problem, not solving it for them.\n",
    "*   **Encouraging Communication:**  Prompt the candidate to explain their thought process and reasoning.\n",
    "*   **Providing Strategic Hints:** Offer hints in a graduated manner to help the candidate overcome obstacles.\n",
    "*   **Positive and Supportive Tone:**  Create a comfortable environment where the candidate feels encouraged to explore solutions.\n",
    "\n",
    "**II. Interview Execution Guidance:**\n",
    "\n",
    "*   **Problem Definition Confirmation:** Ensure the candidate understands the problem statement completely. Ask them to reiterate the problem in their own words. \"So, just to confirm, can you please explain the problem and expected inputs/outputs back to me?\"\n",
    "*   **Clarifying Questions:** Encourage the candidate to ask clarifying questions before they start coding. \"What questions do you have about the requirements or constraints before we begin?\"\n",
    "*   **Observing and Listening:** Pay close attention to the candidate's thought process.\n",
    "*   **Prompting Explanation:**  Actively ask the candidate to \"think out loud.\" Use prompts like:\n",
    "    *   \"What are you thinking?\"\n",
    "    *   \"What's your next step?\"\n",
    "    *   \"Why did you choose that approach?\"\n",
    "    *   \"What are the potential trade-offs of this approach?\"\n",
    "*   **Code Implementation:** Ask the candidate to code his solution when he described it in words. If candidate first decided to try bruteforce approach, you should still ask him to code it.\n",
    "*   **Strategic Hint Provision:** Offer hints in a graduated manner:\n",
    "    *   **Level 1 (General):** \"Have you considered [data structure/algorithm]?\", \"What's the time complexity of your current approach?\", \"Are there any edge cases you haven't accounted for?\"\n",
    "    *   **Level 2 (Specific):** \"You could use a hash map to [solve specific sub-problem].\", \"Try using a two-pointer approach when [condition exists].\", \"What should happen if the input is null or empty?\"\n",
    "    *   **Level 3 (Code Snippet/Conceptual Reminder):** \"In [language], you could use [built-in function] to [achieve specific task].\" \"Remember that Depth First Search involves exploring as far as possible down each branch.\"  Use code snippets SPARINGLY and ONLY after exhausting other options. Focus on conceptual understanding, not direct code completion.\n",
    "*   **Redirecting if Necessary:**  If the candidate is completely stuck, gently redirect them to a different approach or a simpler sub-problem.  \"Perhaps we can focus on [simplified task] first, to get a better understanding of the core concept.\"\n",
    "\n",
    "**Example Interactions:**\n",
    "\n",
    "*Example 1: Candidate is slightly stuck on approach*\n",
    "Candidate Response: \"I'm trying to think about how to find the pairs efficiently. Maybe sort the array first?\"\n",
    "Interviewer Output/Response: \"Sorting is an interesting idea. What would be the time complexity of sorting, and how would you use the sorted array to find the pair?\" (This is a Level 1 hint, guiding towards complexity and next steps without giving away hash maps yet).\n",
    "\n",
    "*Example 2: Candidate makes a small logic error in code*\n",
    "Candidate Response: \"Here's my code using the hash map.\"\n",
    "Candidate Code Snippet: (Python code for Two Sum using a hash map, but checks `if target - nums[i] in hm:` *before* putting `nums[i]` in the map)\n",
    "Interviewer Output/Response: \"Thanks for sharing the code. It looks like you're correctly using a hash map. Let's trace it with `nums = [3, 2, 4]` and `target = 6`. What happens in the first iteration when `i=0` and `nums[i]=3`? What gets checked in the hash map, and what gets added?\" (This is probing/guiding towards the specific error without explicitly stating it).\n",
    "\n",
    "*Example 3: Candidate needs a more specific hint*\n",
    "Candidate Response: \"I traced it, but I'm still not sure why it wouldn't work for certain cases.\" (After Example 2 trace)\n",
    "Interviewer Output/Response: \"Okay, consider the order. Right now, you check if the complement (`target - nums[i]`) exists in the map *before* you add the current number (`nums[i]`) to the map. What if the complement *is* the current number you're processing, like in the `[3, 3]` target 6 example?\" (This is a Level 2 hint pointing more directly at the logic flaw).\n",
    "      \n",
    "**III. Input Format:**\n",
    "\n",
    "You will receive the following inputs:\n",
    "\n",
    "*   **Candidate Response:** (Transcripts of the candidate's verbal explanations, thinking process, etc.)\n",
    "*   **Candidate Code Snippet (optional):** (Optional candidate code snippet. Candidate will provide code only when ready).\n",
    "*   **Screenshot of the user whiteboard (optional):** (Optional candidate's whiteboard screenshot. On the whiteboard candidate can explain his thoughts more clearly).\n",
    "*   **Instruction:** If a whiteboard image is provided, you MUST analyze its content (diagrams, pseudocode, logic flow, data structures etc.). **Seamlessly integrate your understanding and interpretation of the whiteboard into your main conversational response.** Don't just mention the image exists; refer to *specifics* you observe in it. Use this visual context to:\n",
    "*   Confirm your understanding (\"Okay, seeing the diagram confirms you're planning to use a hash map...\").\n",
    "        *   Connect it to their words or code (\"That flow you drew on the whiteboard matches your explanation well...\" or \"The way you've depicted the pointers on the whiteboard helps clarify your code's logic...\").\n",
    "        *   Ask targeted questions based on the visual (\"Looking at your whiteboard, what happens in the edge case where...?\").\n",
    "        *   Point out discrepancies if the visual conflicts with other inputs (\"Your diagram seems to show [X], but in your code, it looks like [Y]. Could you clarify that step?\").\n",
    "*   **Crucially, do NOT make up any diagram or explanation, If content of the whiteboard is not related to the current dialogue or problem you should say \"Content of the whiteboard is not related to the question/conversation\". Do NOT create a separate 'Whiteboard Analysis' section in your output.** Weave these observations naturally into your dialogue with the candidate.\n",
    "\n",
    "\n",
    "**IV. Output Format:**\n",
    "\n",
    "Your output should contain the following:\n",
    "\n",
    "**Response:** (Your response to the candidate. You may or may not include probing questions, strategic hints or guiding suggestions in your response.\")\n",
    "**Response may include:**\n",
    "*   **Next Probing Question:** (Ask a question to encourage the candidate to elaborate on their approach, clarify their reasoning, or identify potential issues. This question might stem from your whiteboard analysis.)\n",
    "*   **Strategic Hint (if necessary):** (Provide a hint appropriate for the candidate's current situation, following the Level 1-3 progression. Only provide a hint if the candidate is clearly stuck and not making progress.)\n",
    "*   **Guiding Suggestion (if necessary):** (If the candidate needs a nudge, suggest a specific action they could take to move forward. E.g., \"Try writing a simple test case to verify your logic.\")\n",
    "\n",
    "**Example Input 1 (with Whiteboard):**\n",
    "\n",
    "```\n",
    "Candidate Response: \"Okay, so I'll use a hash map. I'll iterate through the array, and for each element, I'll calculate the complement needed to reach the target. I'll check if the complement is already in the hash map. If it is, I return the indices. If not, I add the current element and its index to the map.\"\n",
    "Candidate Code Snippet: (Code implementing the hash map approach, maybe with a small bug)\n",
    "Screenshot of the user whiteboard: (Image showing an array [2, 7, 11, 15], target 9, and a box labeled 'HashMap' with arrows indicating lookups and insertions, possibly showing {7: 0} after the first step.)\n",
    "```\n",
    "\n",
    "**Example Output 1 (with Whiteboard Analysis):**\n",
    "\n",
    "```\n",
    "**Response: ** \"That's a good explanation of the hash map approach, and the diagram on your whiteboard clearly illustrates that key idea of storing complements and their indices, like storing {7: 0} after the first step. Your code snippet looks close. Let's trace it with your example [2, 7, 11, 15] and target 9, keeping your diagram in mind. What happens in the code when i is 1 and the element is 7?\"\n",
    "**Optional hints:**\n",
    "1.  **Next Probing Question:** \"Based on your whiteboard diagram, what value would you expect to find in the hash map when processing the number 7?\"\n",
    "2.  **Strategic Hint (if necessary):** Level 2: \"Think about the order of operations. Should you check the hash map before or after adding the current element to it?\"\n",
    "3.  **Guiding Suggestion (if necessary):** \"Add a print statement inside your loop to see the state of the hash map at each step.\"\n",
    "```\n",
    "\n",
    "**Example Input 2 (with Whiteboard):**\n",
    "\n",
    "```\n",
    "Candidate Response: \"I think we can iterate over the array to find maximum value, then we should pop this value and do it again. On the third time we will find third biggest number\"\n",
    "Candidate Code Snippet: (No code provided))\n",
    "Screenshot of the user whiteboard: (Image showing a drawing of a snake that ate an elephant)\n",
    "```\n",
    "\n",
    "**Example Output 2 (with Whiteboard Analysis):**\n",
    "\n",
    "```\n",
    "**Response: ** \"It's great first step to find the right solution but content of the whiteboard is not related to the question. This bruteforce approach could work. Can you elaborate a bit more on this solution.\"\n",
    "```\n",
    "\n",
    "'''\n",
    "\n",
    "WELCOME_MSG = '''Hello! I'm a technical interviewer for Mock Technologie Inc. I'm here to help you demonstrate your software engineering skills.\n",
    "\n",
    "To start, please choose a question for the technical interview. You can either pick a specific question you'd like to work on, or I can select one randomly for you. Let me know what you'd prefer!'''"
   ]
  },
  {
   "cell_type": "code",
   "execution_count": 9,
   "id": "1d5bfadb",
   "metadata": {
    "execution": {
     "iopub.execute_input": "2025-05-30T17:20:47.371600Z",
     "iopub.status.busy": "2025-05-30T17:20:47.371239Z",
     "iopub.status.idle": "2025-05-30T17:20:47.378528Z",
     "shell.execute_reply": "2025-05-30T17:20:47.377315Z"
    },
    "papermill": {
     "duration": 0.022889,
     "end_time": "2025-05-30T17:20:47.380390",
     "exception": false,
     "start_time": "2025-05-30T17:20:47.357501",
     "status": "completed"
    },
    "tags": []
   },
   "outputs": [],
   "source": [
    "CANDIDATE_EVALUATION_PROMPT = '''\n",
    "Your Role: You are an experienced Technical Hiring Manager/Interviewer. Your task is to evaluate a candidate's suitability for a specific technical role based solely on the provided interview transcript.\n",
    "\n",
    "Inputs You Will Be Given:\n",
    "\n",
    "    [Interview question]: Question that was asked to the candidate.\n",
    "    [Interview Transcript]: The full text of the conversation between the interviewer(s) and the candidate.\n",
    "    [Candidate code solution]: Final version of the code solution for the problem\n",
    "\n",
    "Your Task:\n",
    "\n",
    "Analyze the provided [Interview Transcript] to assess the candidate's qualifications and fit for the Software Engineer role. Focus on the following key areas, using specific examples and quotes from the transcript as evidence:\n",
    "\n",
    "Evaluation Criteria:\n",
    "    Technical Competence:\n",
    "        Problem Understanding: Did they ask clarifying questions? Did they accurately restate the problem and constraints? Did their whiteboard diagram (if provided) accurately reflect the problem?\n",
    "        Approach & Algorithm Design: Did they discuss trade-offs (time/space complexity)? Was the chosen approach suitable? Did they break down the problem effectively? Did their whiteboard explanation (if provided) align with their verbal approach and demonstrate logical thinking?\n",
    "        Coding & Implementation (as described/discussed): Does their described logic seem sound? Did they discuss data structures/algorithms appropriately? Did they consider edge cases in their plan?\n",
    "        Testing & Verification: Did they propose tests or walk through examples (including edge cases)?\n",
    "        Debugging & Correction: How did they respond to identified issues or prompts for correction? Could they identify flaws?\n",
    "\n",
    "    Problem-Solving & Critical Thinking:\n",
    "        Systematic Approach: Did they follow a logical process?\n",
    "        Adaptability: How did they handle roadblocks or hints? Did they explore alternatives?\n",
    "        Optimization: Did they consider performance? Could they articulate why one approach might be better?\n",
    "\n",
    "    Communication & Collaboration:\n",
    "        Clarity of Thought: Could they articulate their thought process clearly while solving problems? Was their explanation easy to follow?\n",
    "        Active Listening: Did they seem to understand the interviewer's questions and feedback?\n",
    "        Asking Questions: Did they ask relevant clarifying questions about the problem? Did they ask thoughtful questions about the role/team (if applicable in the transcript)?\n",
    "        Receiving Feedback: How did they react to constructive criticism or alternative suggestions (receptive, defensive, collaborative)?\n",
    "        Professionalism: Was their language professional and respectful?\n",
    "\n",
    "Required Output Format:\n",
    "\n",
    "Structure your evaluation clearly using the following sections:\n",
    "    Overall Summary: A brief (2-3 sentence) overview of the candidate's performance and your high-level recommendation (e.g., Strong Hire, Hire, Lean Hire, No Hire, Needs Further Discussion)..\n",
    "    Strengths: List 5 key strengths observed during the interview. For each strength, provide specific examples or brief quotes from the transcript as evidence. Evidence should be brief but descriptive. Avoid evidence like \"num[i]\". You can take bigger code snippets with text formatting to make accent on the correct/interesting implementation.\n",
    "    Areas for Development / Concerns: List at least 5 key weaknesses or areas where the candidate struggled or raised concerns. For each point, provide specific examples or brief quotes from the transcript as evidence. Avoid evidence like \"num[i]\" if case when it should be nums[j]. You can take bigger code snippets with text formatting to make accent on the error.\n",
    "    Detailed Analysis: Extensively elaborate on the candidate's performance within each of the main evaluation criteria (Technical, Problem-Solving, Communication), referencing transcript evidence.\n",
    "    Final Recommendation & Justification: Clearly state your final hiring recommendation and provide an extensive justification linking back to the key strengths and weaknesses. Give recommendations on what to improve in the context of problem solving and interview communication.\n",
    "    Topics to learn: Provide a list of topics to learn for the user to improve their skills in their areas for development.\n",
    "\n",
    "Important Guidelines:\n",
    "    Base your entire evaluation strictly on the provided transcript text. Do not infer information not present.\n",
    "    Be objective and analytical.\n",
    "    Cite specific examples or quote relevant snippets from the transcript to support your points.\n",
    "    Maintain a professional tone.\n",
    "\n",
    "\n",
    "# Inputs:\n",
    "\n",
    "## Interview question\n",
    "{question}\n",
    "\n",
    "## Interview transcript\n",
    "{transcript}\n",
    "\n",
    "## Candidate code solution\n",
    "{code}\n",
    "'''"
   ]
  },
  {
   "cell_type": "code",
   "execution_count": 10,
   "id": "ddf35380",
   "metadata": {
    "execution": {
     "iopub.execute_input": "2025-05-30T17:20:47.406389Z",
     "iopub.status.busy": "2025-05-30T17:20:47.406080Z",
     "iopub.status.idle": "2025-05-30T17:20:47.412244Z",
     "shell.execute_reply": "2025-05-30T17:20:47.410656Z"
    },
    "papermill": {
     "duration": 0.02222,
     "end_time": "2025-05-30T17:20:47.414369",
     "exception": false,
     "start_time": "2025-05-30T17:20:47.392149",
     "status": "completed"
    },
    "tags": []
   },
   "outputs": [],
   "source": [
    "RESOURCES_SEARCH_PROMPT = '''\n",
    "You are an expert learning advisor providing recommendations based on a technical interview evaluation.\n",
    "\n",
    "**Interview Context:**\n",
    "*   **Question Asked:** \n",
    "\n",
    "{question}\n",
    "\n",
    "*   **Language Used:** {language}\n",
    "*   **Expert Evaluation Summary:** \n",
    "\n",
    "{analytics}\n",
    "\n",
    "*   **Key Topics Identified for Learning:** \n",
    "\n",
    "{topics}\n",
    "\n",
    "**Your Task:**\n",
    "Generate a concise, actionable learning plan or set of recommendations for the candidate based **only** on the provided context and information found via the search tool.\n",
    "\n",
    "**Instructions:**\n",
    "1.  Directly address the \"Topics to Learn\" and relate them to the \"Expert Evaluation Summary\".\n",
    "2.  Synthesize information found via search to explain concepts or suggest approaches for improvement.\n",
    "3.  Structure your response clearly, perhaps using bullet points for key recommendations.\n",
    "4.  **IMPORTANT:** Write a helpful narrative. **Do NOT explicitly list URLs or resource titles in your response text.** The system will automatically add citations based on the search results you utilize.\n",
    "5.  Focus on providing clear advice grounded in the search findings.\n",
    "6.  Tool Usage: Please use the search tool to find current and relevant resources based on these criteria.\n",
    "7.  Skip introduction: Start you answer with aconcrete plan or recommended actions. Do NOT start your answer with sentences like \"Okay, based on the interview evaluation, here's a...\". Instead, start with \"The evaluation indicates weaknesses in coding proficiency, debugging skills...\"\n",
    "\n",
    "\n",
    "\n",
    "**Example Output Structure (Conceptual - do not include URLs here):**\n",
    "\"Analysis indicates that [Specific Weakness from Analytics], focusing on [Topic 1] is recommended. Understanding the core principles of [Concept Found via Search] can significantly help. For [Topic 2], exploring different approaches like [Approach Found via Search] would be beneficial. Practice problems related to [Relevant Sub-topic] are also advised...\"\n",
    "'''"
   ]
  },
  {
   "cell_type": "code",
   "execution_count": 11,
   "id": "b62e96be",
   "metadata": {
    "execution": {
     "iopub.execute_input": "2025-05-30T17:20:47.439829Z",
     "iopub.status.busy": "2025-05-30T17:20:47.439453Z",
     "iopub.status.idle": "2025-05-30T17:20:47.444698Z",
     "shell.execute_reply": "2025-05-30T17:20:47.443631Z"
    },
    "papermill": {
     "duration": 0.019176,
     "end_time": "2025-05-30T17:20:47.446360",
     "exception": false,
     "start_time": "2025-05-30T17:20:47.427184",
     "status": "completed"
    },
    "tags": []
   },
   "outputs": [],
   "source": [
    "DESCRIBE_IMAGE_PROMPT = '''\n",
    "Given transcript of the technical interview, analyze provided image. \n",
    "Describe its relevancy to the transcript or code (if provided).\n",
    "Be concise. Give only required information.\n",
    "\n",
    "## Transcript:\n",
    "{transcript}\n",
    "\n",
    "'''"
   ]
  },
  {
   "cell_type": "markdown",
   "id": "b1f3e826",
   "metadata": {
    "papermill": {
     "duration": 0.012157,
     "end_time": "2025-05-30T17:20:47.471347",
     "exception": false,
     "start_time": "2025-05-30T17:20:47.459190",
     "status": "completed"
    },
    "tags": []
   },
   "source": [
    "**4.2. Structured Output (Evaluation Report)** \n",
    "\n",
    "To ensure the evaluation report is consistent and machine-readable, we define Pydantic models that specify the desired JSON schema.\n",
    "\n",
    "* Pydantic Models: StrengthItem, AreaForDevelopmentItem, DetailedAnalysis, FinalRecommendation, TopicsToLearn, and the root EvaluationOutput model define the exact structure, fields, types, and descriptions for the evaluation data.\n",
    "* LLM Integration: When calling Gemini for the evaluation (create_report_node), we provide the EvaluationOutput model as the response_schema and set response_mime_type to application/json. This instructs Gemini to generate its response adhering strictly to this schema.\n",
    "* Report Template: A Jinja2 template (REPORT_TEMPLATE) is used to format the structured JSON output into a user-friendly Markdown report.\n",
    "  \n",
    "**How it solves the problems:**\n",
    "\n",
    "* Subjective/Delayed Feedback: Enforcing a strict JSON schema (via Pydantic models) ensures the evaluation output is consistent and standardized across all interviews, reducing subjectivity. As part of the automated flow, it guarantees immediate feedback delivery upon interview completion.\n",
    "\n",
    "* Difficulty Identifying Weaknesses: The structured format explicitly requires sections for \"Areas for Development\" and \"Topics to Learn\", forcing the system to pinpoint specific weaknesses rather than giving vague feedback. This structure makes it easy for the candidate (and the subsequent learning plan generator) to identify focus areas."
   ]
  },
  {
   "cell_type": "code",
   "execution_count": 12,
   "id": "eac2c765",
   "metadata": {
    "execution": {
     "iopub.execute_input": "2025-05-30T17:20:47.496437Z",
     "iopub.status.busy": "2025-05-30T17:20:47.496105Z",
     "iopub.status.idle": "2025-05-30T17:20:47.501957Z",
     "shell.execute_reply": "2025-05-30T17:20:47.500681Z"
    },
    "papermill": {
     "duration": 0.020415,
     "end_time": "2025-05-30T17:20:47.503592",
     "exception": false,
     "start_time": "2025-05-30T17:20:47.483177",
     "status": "completed"
    },
    "tags": []
   },
   "outputs": [],
   "source": [
    "REPORT_TEMPLATE = '''\n",
    "# Candidate Interview Evaluation Report\n",
    "\n",
    "---\n",
    "\n",
    "## Overall Summary\n",
    "\n",
    "{{ evaluation.overall_summary }}\n",
    "\n",
    "---\n",
    "\n",
    "## Final Recommendation\n",
    "\n",
    "**Recommendation:** {{ evaluation.final_recommendation.recommendation }}\n",
    "\n",
    "**Justification:** {{ evaluation.final_recommendation.justification }}\n",
    "\n",
    "---\n",
    "\n",
    "## Strengths Observed\n",
    "\n",
    "{% if evaluation.strengths %}\n",
    "  {% for strength in evaluation.strengths %}\n",
    "*   **Strength:** {{ strength.point }}\n",
    "    *   **Evidence:** {{ strength.evidence }}\n",
    "  {% endfor %}\n",
    "{% else %}\n",
    "*   *No specific strengths noted in the transcript.*\n",
    "{% endif %}\n",
    "\n",
    "---\n",
    "\n",
    "## Areas for Development / Concerns\n",
    "\n",
    "{% if evaluation.areas_for_development %}\n",
    "  {% for weakness in evaluation.areas_for_development %}\n",
    "*   **Area:** {{ weakness.point }}\n",
    "    *   **Evidence:** {{ weakness.evidence }}\n",
    "  {% endfor %}\n",
    "{% else %}\n",
    "*   *No specific areas for development or concerns noted in the transcript.*\n",
    "{% endif %}\n",
    "\n",
    "---\n",
    "\n",
    "## Detailed Analysis\n",
    "\n",
    "### Technical Competence\n",
    "\n",
    "{{ evaluation.detailed_analysis.technical_competence }}\n",
    "\n",
    "### Problem Solving & Critical Thinking\n",
    "\n",
    "{{ evaluation.detailed_analysis.problem_solving_critical_thinking }}\n",
    "\n",
    "### Communication & Collaboration\n",
    "\n",
    "{{ evaluation.detailed_analysis.communication_collaboration }}\n",
    "\n",
    "---\n",
    "\n",
    "## Suggested Improvement Resources\n",
    "\n",
    "*(Note: This section lists suggested resources based on identified development areas. The list might be empty if none were specified.)*\n",
    "\n",
    "{{ recommendations | default(\"*No specific learning recommendations were generated.*\") }}\n",
    "\n",
    "---\n",
    "'''"
   ]
  },
  {
   "cell_type": "code",
   "execution_count": 13,
   "id": "c8ddf6e9",
   "metadata": {
    "execution": {
     "iopub.execute_input": "2025-05-30T17:20:47.530747Z",
     "iopub.status.busy": "2025-05-30T17:20:47.530305Z",
     "iopub.status.idle": "2025-05-30T17:20:47.554129Z",
     "shell.execute_reply": "2025-05-30T17:20:47.553105Z"
    },
    "papermill": {
     "duration": 0.039986,
     "end_time": "2025-05-30T17:20:47.555700",
     "exception": false,
     "start_time": "2025-05-30T17:20:47.515714",
     "status": "completed"
    },
    "tags": []
   },
   "outputs": [],
   "source": [
    "class StrengthItem(BaseModel):\n",
    "    \"\"\"Represents a single observed strength.\"\"\"\n",
    "    point: str = Field(\n",
    "        ..., # Ellipsis (...) means this field is required\n",
    "        description=\"A concise statement describing the specific strength observed (e.g., 'Clear communication of thought process', 'Effective use of data structures', 'Proactively identified edge cases').\"\n",
    "    )\n",
    "    evidence: str = Field(\n",
    "        ...,\n",
    "        description=\"Specific examples, observed behaviors, or direct quotes from the transcript that substantiate the identified strength.\"\n",
    "    )\n",
    "\n",
    "class AreaForDevelopmentItem(BaseModel):\n",
    "    \"\"\"Represents a single observed area for development or concern.\"\"\"\n",
    "    point: str = Field(\n",
    "        ...,\n",
    "        description=\"A concise statement describing the specific weakness or area needing improvement (e.g., 'Difficulty explaining time complexity', 'Did not consider null inputs initially', 'Hesitant to ask clarifying questions').\"\n",
    "    )\n",
    "    evidence: str = Field(\n",
    "        ...,\n",
    "        description=\"Specific examples, observed behaviors, or direct quotes from the transcript that substantiate the identified weakness or concern.\"\n",
    "    )\n",
    "\n",
    "class DetailedAnalysis(BaseModel):\n",
    "    \"\"\"\n",
    "    An object containing extensive, narrative elaboration on the candidate's\n",
    "    performance across core evaluation criteria, weaving together observations\n",
    "    and transcript evidence.\n",
    "    \"\"\"\n",
    "    technical_competence: str = Field(\n",
    "        ...,\n",
    "        alias=\"technicalCompetence\",\n",
    "        description=\"Detailed assessment of the candidate's technical skills demonstrated or discussed. Covers aspects like problem understanding, approach formulation, algorithmic thinking, data structure usage, coding logic (as described), testing awareness, and debugging ability, supported by transcript references.\"\n",
    "    )\n",
    "    problem_solving_critical_thinking: str = Field(\n",
    "        ...,\n",
    "        alias=\"problemSolvingCriticalThinking\",\n",
    "        description=\"Detailed assessment of the candidate's approach to problem-solving. Covers aspects like systematic thinking, logical breakdown of problems, adaptability when facing challenges, response to hints, and consideration of efficiency/optimization, supported by transcript references.\"\n",
    "    )\n",
    "    communication_collaboration: str = Field(\n",
    "        ...,\n",
    "        alias=\"communicationCollaboration\",\n",
    "        description=\"Detailed assessment of the candidate's communication and interaction style. Covers aspects like clarity of explanation ('thinking out loud'), active listening, ability to articulate ideas, quality of questions asked, receptiveness to feedback, and overall professionalism during the interaction, supported by transcript references.\"\n",
    "    )\n",
    "\n",
    "    class Config:\n",
    "        validate_by_name = True\n",
    "\n",
    "\n",
    "class FinalRecommendation(BaseModel):\n",
    "    \"\"\"The concluding hiring decision and the explicit reasoning behind it.\"\"\"\n",
    "    recommendation: Literal[\n",
    "        \"Strong Hire\", \"Hire\", \"Lean Hire\", \"No Hire\", \"Needs Further Discussion\"\n",
    "    ] = Field(\n",
    "        ...,\n",
    "        description=\"The definitive hiring recommendation category based on the overall evaluation.\"\n",
    "    )\n",
    "    justification: str = Field(\n",
    "        ...,\n",
    "        description=\"A concise summary justifying the final recommendation. It should explicitly link the key strengths and areas for development to the requirements of the specific role and level being considered.\"\n",
    "    )\n",
    "\n",
    "\n",
    "class TopicsToLearn(BaseModel):\n",
    "    \"\"\"Represents a single suggested learning resource.\"\"\"\n",
    "    area: str = Field(\n",
    "        ...,\n",
    "        description=\"The specific skill or knowledge area the resource is intended to address (e.g., 'Algorithm Complexity Analysis', 'Test-Driven Development Principles', 'Effective Technical Communication'). Should ideally correspond to one or more points in 'areasForDevelopment'.\"\n",
    "    )\n",
    "    description: str = Field(\n",
    "        ...,\n",
    "        description=\"A brief explanation of the resource content or why it is being recommended in relation to the candidate's development needs.\"\n",
    "    )\n",
    "\n",
    "# Define the main evaluation output model\n",
    "\n",
    "class EvaluationOutput(BaseModel):\n",
    "    \"\"\"\n",
    "    Root object containing the complete candidate evaluation derived\n",
    "    from the interview transcript.\n",
    "    \"\"\"\n",
    "    overall_summary: str = Field(\n",
    "        ...,\n",
    "        alias=\"overallSummary\",\n",
    "        description=\"A brief (2-3 sentence) overview of the candidate's performance and a high-level hiring recommendation (e.g., Strong Hire, Hire, Lean Hire, No Hire, Needs Further Discussion). This provides a quick snapshot of the evaluation outcome.\"\n",
    "    )\n",
    "    strengths: List[StrengthItem] = Field(\n",
    "        ...,\n",
    "        description=\"An array listing the key positive attributes, skills, and behaviors demonstrated by the candidate during the interview. The number of items in the array will vary based on the interview content.\"\n",
    "    )\n",
    "    areas_for_development: List[AreaForDevelopmentItem] = Field(\n",
    "        ...,\n",
    "        alias=\"areasForDevelopment\", \n",
    "        description=\"An array listing the key weaknesses, areas where the candidate struggled, skills gaps, or concerns identified during the interview. The number of items in the array will vary.\"\n",
    "    )\n",
    "    detailed_analysis: DetailedAnalysis = Field(\n",
    "        ...,\n",
    "        alias=\"detailedAnalysis\",\n",
    "        description=\"Extensive analysis of the candidate's performance within each of the main evaluation criteria (Technical, Problem-Solving, Communication), referencing transcript evidence. Each criterial should be atleast 5 sentences.\"\n",
    "    )\n",
    "    final_recommendation: FinalRecommendation = Field(\n",
    "        ...,\n",
    "        alias=\"finalRecommendation\"\n",
    "    )\n",
    "    topics_to_learn: List[TopicsToLearn] = Field(\n",
    "        ..., # Ellipsis marks it as required\n",
    "        alias=\"topicsToLearn\",\n",
    "        description=\"A required array of suggested learning topics targeted at the candidate's identified 'Areas for Development'. The list can be empty if no specific topics are suggested, but the field must be present.\"\n",
    "    )\n",
    "\n",
    "    class Config:\n",
    "        validate_by_name = True # Allows using either snake_case or alias for input\n",
    "        json_schema_extra = {\n",
    "            \"title\": \"Candidate Interview Evaluation\",\n",
    "            \"description\": \"A structured evaluation of a candidate based on an interview transcript.\"\n",
    "        }"
   ]
  },
  {
   "cell_type": "markdown",
   "id": "4e9b0197",
   "metadata": {
    "papermill": {
     "duration": 0.012567,
     "end_time": "2025-05-30T17:20:47.581228",
     "exception": false,
     "start_time": "2025-05-30T17:20:47.568661",
     "status": "completed"
    },
    "tags": []
   },
   "source": [
    "**4.3. Utility Functions** \n",
    "\n",
    "Several helper functions support the agent's operation:\n",
    "\n",
    "* encode64_pil_image: Converts PIL Images (from Gradio Sketchpad) to base64 strings suitable for inclusion in Gemini API calls.\n",
    "* get_data_for_search: Extracts structured analysis and learning topics from the evaluation output to feed into the grounding prompt.\n",
    "* get_interview_transcript: Processes the message history (InterviewState['messages']), extracting text and code. If an image is present, it calls Gemini using DESCRIBE_IMAGE_PROMPT to get a text description and incorporates it, creating a comprehensive transcript for the final evaluation. This handles the long context aspect.\n",
    "* get_learning_resources: Implements the Grounding feature. It calls Gemini with the RESOURCES_SEARCH_PROMPT, enables the Google Search tool (types.Tool(google_search=types.GoogleSearch())), processes the response to extract the generated text and citation metadata, and formats it into a Markdown string with superscript citations and a reference list. Includes retry logic for robustness.\n",
    "\n",
    "**How it solves the problems:**\n",
    "\n",
    "* Lack of Realistic Simulation: encode64_pil_image and the image handling in get_interview_transcript (using DESCRIBE_IMAGE_PROMPT) enable the use of a visual whiteboard, a common element in real interviews.\n",
    "\n",
    "* Subjective/Delayed Feedback: get_interview_transcript creates a comprehensive log of the interaction (including visual descriptions) for the evaluation model, leading to more data-driven, less subjective feedback. get_learning_resources delivers immediate, actionable learning steps.\n",
    "\n",
    "* Difficulty Identifying Weaknesses: get_data_for_search extracts the identified weaknesses to feed into the learning plan generator. get_learning_resources uses grounding to provide highly relevant resources specifically tailored to these weaknesses."
   ]
  },
  {
   "cell_type": "code",
   "execution_count": 14,
   "id": "69784e6c",
   "metadata": {
    "execution": {
     "iopub.execute_input": "2025-05-30T17:20:47.608695Z",
     "iopub.status.busy": "2025-05-30T17:20:47.608268Z",
     "iopub.status.idle": "2025-05-30T17:20:47.825169Z",
     "shell.execute_reply": "2025-05-30T17:20:47.823898Z"
    },
    "papermill": {
     "duration": 0.233012,
     "end_time": "2025-05-30T17:20:47.827609",
     "exception": false,
     "start_time": "2025-05-30T17:20:47.594597",
     "status": "completed"
    },
    "tags": []
   },
   "outputs": [],
   "source": [
    "client = genai.Client(api_key=UserSecretsClient().get_secret(\"GOOGLE_API_KEY\"))"
   ]
  },
  {
   "cell_type": "markdown",
   "id": "531d52d4",
   "metadata": {
    "papermill": {
     "duration": 0.014113,
     "end_time": "2025-05-30T17:20:47.855171",
     "exception": false,
     "start_time": "2025-05-30T17:20:47.841058",
     "status": "completed"
    },
    "tags": []
   },
   "source": [
    "Although **Google API supports using requests** with PIL images as it is, when using a langchain wrapper we can not add PIL images to the message. Therefore I use this function to convert PIL image to base64 format."
   ]
  },
  {
   "cell_type": "code",
   "execution_count": 15,
   "id": "4569a5ab",
   "metadata": {
    "execution": {
     "iopub.execute_input": "2025-05-30T17:20:47.883477Z",
     "iopub.status.busy": "2025-05-30T17:20:47.883125Z",
     "iopub.status.idle": "2025-05-30T17:20:47.890385Z",
     "shell.execute_reply": "2025-05-30T17:20:47.889067Z"
    },
    "papermill": {
     "duration": 0.02442,
     "end_time": "2025-05-30T17:20:47.892633",
     "exception": false,
     "start_time": "2025-05-30T17:20:47.868213",
     "status": "completed"
    },
    "tags": []
   },
   "outputs": [],
   "source": [
    "def encode64_pil_image(img: PIL.Image.Image) -> str:\n",
    "    \"\"\"Converts PIL Image to base64 format\"\"\"\n",
    "    buffer = BytesIO()\n",
    "    img.save(buffer, format=\"PNG\")\n",
    "    image_bytes = buffer.getvalue()\n",
    "    base64_image = base64.b64encode(image_bytes).decode('utf-8')\n",
    "    return base64_image"
   ]
  },
  {
   "cell_type": "code",
   "execution_count": 16,
   "id": "8da506a8",
   "metadata": {
    "execution": {
     "iopub.execute_input": "2025-05-30T17:20:47.920852Z",
     "iopub.status.busy": "2025-05-30T17:20:47.920488Z",
     "iopub.status.idle": "2025-05-30T17:20:47.933435Z",
     "shell.execute_reply": "2025-05-30T17:20:47.932057Z"
    },
    "papermill": {
     "duration": 0.02783,
     "end_time": "2025-05-30T17:20:47.935599",
     "exception": false,
     "start_time": "2025-05-30T17:20:47.907769",
     "status": "completed"
    },
    "tags": []
   },
   "outputs": [],
   "source": [
    "def get_data_for_search(response: EvaluationOutput) -> Tuple[str, str]:\n",
    "    \"\"\"Gets analysis and topics from response and returns them as separate strings\"\"\"\n",
    "    analytics = \"\"\n",
    "    for item in response.parsed.detailed_analysis:\n",
    "        theme, desc = item\n",
    "        analytics += f\"{theme}: {desc}\\n\\n\"\n",
    "    \n",
    "    topics = \"\"\n",
    "    for item in response.parsed.topics_to_learn:\n",
    "        topics += f\"{item.area}: {item.description}\\n\\n\"\n",
    "\n",
    "    return analytics, topics\n",
    "\n",
    "\n",
    "def get_interview_transcript(messages: List[BaseMessage]) -> str:\n",
    "    \"\"\"\n",
    "    Read messages from history, extracts message text, code and transcribing images.\n",
    "    Returns dialogue transcript\n",
    "    \"\"\"\n",
    "    transcript: str = \"\"\n",
    "    image_url: Optional[Dict[str, str]] = None\n",
    "\n",
    "    for message in messages:\n",
    "        if isinstance(message, AIMessage):\n",
    "            if message.content:\n",
    "                transcript += f\"Interviewer: {message.content}\\n\\n\"\n",
    "                \n",
    "        if isinstance(message, HumanMessage):\n",
    "            text: str = \"\"\n",
    "            for content in message.content:\n",
    "                content: Dict[str, Any]\n",
    "                text += content.get(\"text\", \"\") + \"\\n\"\n",
    "                if image_url_data := content.get(\"image_url\", None):\n",
    "                    image_url: Dict[str, str] = image_url_data\n",
    "                    response = client.models.generate_content(\n",
    "                        model='gemini-2.0-flash',\n",
    "                        contents=[DESCRIBE_IMAGE_PROMPT.format(transcript=transcript), image_url.get(\"url\")],\n",
    "                    )\n",
    "                    text += f\"Image description:\\n{response.text}\\n\"\n",
    "                    \n",
    "            transcript += f\"Candidate: {text}\\n\\n\"\n",
    "    return transcript"
   ]
  },
  {
   "cell_type": "markdown",
   "id": "fbc336a2",
   "metadata": {
    "papermill": {
     "duration": 0.011966,
     "end_time": "2025-05-30T17:20:47.962005",
     "exception": false,
     "start_time": "2025-05-30T17:20:47.950039",
     "status": "completed"
    },
    "tags": []
   },
   "source": [
    "**Here is the logic of this function:**\n",
    "\n",
    "* Get generation using client and RESOURCES_SEARCH_PROMPT prompt.\n",
    "* If the response contains grounding metadata we can continue execution.\n",
    "\n",
    "  1. When search grounding is used, the model returns extra metadata that includes links to search suggestions, supporting documents and information on how the supporting documents were used. Get more info here.\n",
    "\n",
    "  2. If the response does not contain grounding metadata -> retry. The number of retries is limited by the num_retries variable.\n",
    "\n",
    "* After successful generation with grounding metadata we take each supported generated chunk and cite it.\n",
    "* Do this for every chunk and combine it for a full cited response."
   ]
  },
  {
   "cell_type": "code",
   "execution_count": 17,
   "id": "51bb7fa0",
   "metadata": {
    "execution": {
     "iopub.execute_input": "2025-05-30T17:20:47.991381Z",
     "iopub.status.busy": "2025-05-30T17:20:47.991051Z",
     "iopub.status.idle": "2025-05-30T17:20:48.007676Z",
     "shell.execute_reply": "2025-05-30T17:20:48.006187Z"
    },
    "papermill": {
     "duration": 0.03357,
     "end_time": "2025-05-30T17:20:48.010233",
     "exception": false,
     "start_time": "2025-05-30T17:20:47.976663",
     "status": "completed"
    },
    "tags": []
   },
   "outputs": [],
   "source": [
    "def get_learning_resources(question: str, analytics: str, topics: str, language: str) -> str:\n",
    "    \"\"\"Using Gemini model generates learning plan with grounding\"\"\"\n",
    "    config_with_search = types.GenerateContentConfig(\n",
    "        tools=[types.Tool(google_search=types.GoogleSearch())]\n",
    "    )\n",
    "    \n",
    "    markdown_parts: List[str] = []\n",
    "    num_retries: int = 5\n",
    "    rc: Optional[types.Candidate] = None \n",
    "\n",
    "    # Run for only num_retries times so it is not infinite\n",
    "    while num_retries > 0:\n",
    "        try:\n",
    "            response = client.models.generate_content(\n",
    "                model='gemini-2.0-flash',\n",
    "                contents=RESOURCES_SEARCH_PROMPT.format(question=question, analytics=analytics, topics=topics, language=language),\n",
    "                config=config_with_search\n",
    "            )\n",
    "            rc = response.candidates[0]\n",
    "\n",
    "            # Check for grounding metadata existence\n",
    "            if (rc.grounding_metadata\n",
    "                and rc.grounding_metadata.grounding_supports\n",
    "                and rc.grounding_metadata.grounding_chunks\n",
    "                and rc.content.parts # Ensure there's content generated\n",
    "                and rc.content.parts[0].text):\n",
    "                 break # Success!\n",
    "\n",
    "            print(f\"Retrying grounding query... ({3 - num_retries + 1})\")\n",
    "            num_retries -= 1\n",
    "            \n",
    "        except Exception as e:\n",
    "             print(f\"An error occurred during grounding query: {e}\")\n",
    "             num_retries -= 1 \n",
    "\n",
    "        if num_retries <= 0:\n",
    "            print(\"Failed to get grounded recommendations after multiple retries.\")\n",
    "            text_without_citations: str = \"\\n\".join([part.text for part in rc.content.parts])\n",
    "            return f\"*Could not retrieve grounded learning recommendations at this time.*\\n\\n{text_without_citations}\" # Fallback message\n",
    "    \n",
    "    if rc and rc.grounding_metadata:\n",
    "        supports: List[types.GroundingSupport] = rc.grounding_metadata.grounding_supports\n",
    "        chunks: List[types.GroundingChunk] = rc.grounding_metadata.grounding_chunks\n",
    "        # Combine all parts of the text generation to properly citate\n",
    "        generated_text: str = \"\\n\".join([part.text for part in rc.content.parts])\n",
    "        \n",
    "        last_index: int = 0 # Initialize last_index to 0 to add first part of the generated text\n",
    "        for support in sorted(supports, key=lambda s: s.segment.start_index):\n",
    "            # Write text before the current support segment\n",
    "            markdown_parts.append(generated_text[last_index : support.segment.start_index])\n",
    "\n",
    "            # Write the supported text segment\n",
    "            supported_segment: str = generated_text[support.segment.start_index : support.segment.end_index]\n",
    "            markdown_parts.append(supported_segment)\n",
    "\n",
    "            # Add citation markers for this segment\n",
    "            citation_indices: List[int] = sorted(list(set(support.grounding_chunk_indices))) # Unique, sorted indices\n",
    "            for i in citation_indices:\n",
    "                  markdown_parts.append(f\"<sup>[{i+1}]</sup>\")\n",
    "\n",
    "            last_index = support.segment.end_index \n",
    "\n",
    "        # Write any remaining text after the last support segment\n",
    "        markdown_parts.append(generated_text[last_index:])\n",
    "        markdown_parts.append(\"\\n\\n\")\n",
    "\n",
    "        # Print the citations\n",
    "        if chunks:\n",
    "            markdown_parts.append(\"### Citations:\\n\\n\")\n",
    "            for i, chunk in enumerate(chunks, start=1):\n",
    "                title: str = chunk.web.title or \"Untitled\"\n",
    "                uri: str = chunk.web.uri or \"#\"\n",
    "                markdown_parts.append(f\"{i}. [{title}]({uri})\\n\")\n",
    "        else:\n",
    "             markdown_parts.append(\"*No specific web sources were cited for this recommendation.*\\n\")\n",
    "\n",
    "        return \"\".join(markdown_parts)\n",
    "    else:\n",
    "         # Fallback if somehow rc is None or grounding metadata is missing after loop\n",
    "         return \"*Could not retrieve grounded learning recommendations.*\""
   ]
  },
  {
   "cell_type": "markdown",
   "id": "13e2db4a",
   "metadata": {
    "papermill": {
     "duration": 0.012194,
     "end_time": "2025-05-30T17:20:48.034779",
     "exception": false,
     "start_time": "2025-05-30T17:20:48.022585",
     "status": "completed"
    },
    "tags": []
   },
   "source": [
    "**4.4. LangGraph State & LLM** \n",
    "\n",
    "* InterviewState (TypedDict): Defines the information that persists and flows through the graph. It includes messages (the conversation history, managed by add_messages), the current question, the candidate's latest code, and a finished flag.\n",
    "* LLM Initialization: We initialize the ChatGoogleGenerativeAI model (gemini-2.0-flash) which will be used for the main conversational turns.\n",
    "\n",
    "**How it solves the problems:**\n",
    "\n",
    "* Lack of Realistic Simulation: The InterviewState allows the agent to remember the conversation history, making the interaction stateful and context-aware, just like a human interviewer. The LLM (Gemini) provides the core natural language understanding and generation capabilities needed for a fluid, conversational simulation.\n",
    "\n",
    "* Limited Accessibility/Scalability: Using a cloud-based LLM API makes the core intelligence scalable and accessible without requiring powerful local hardware for the user."
   ]
  },
  {
   "cell_type": "code",
   "execution_count": 18,
   "id": "6ba4725f",
   "metadata": {
    "execution": {
     "iopub.execute_input": "2025-05-30T17:20:48.061750Z",
     "iopub.status.busy": "2025-05-30T17:20:48.061401Z",
     "iopub.status.idle": "2025-05-30T17:20:48.067044Z",
     "shell.execute_reply": "2025-05-30T17:20:48.065744Z"
    },
    "papermill": {
     "duration": 0.022302,
     "end_time": "2025-05-30T17:20:48.069417",
     "exception": false,
     "start_time": "2025-05-30T17:20:48.047115",
     "status": "completed"
    },
    "tags": []
   },
   "outputs": [],
   "source": [
    "class InterviewState(TypedDict):\n",
    "    \"\"\"State representing the customer's order conversation.\"\"\"\n",
    "    messages: Annotated[list, add_messages]\n",
    "    question: str\n",
    "    code: str\n",
    "    report: str\n",
    "    finished: bool"
   ]
  },
  {
   "cell_type": "code",
   "execution_count": 19,
   "id": "501f61f0",
   "metadata": {
    "execution": {
     "iopub.execute_input": "2025-05-30T17:20:48.096221Z",
     "iopub.status.busy": "2025-05-30T17:20:48.095919Z",
     "iopub.status.idle": "2025-05-30T17:20:48.252870Z",
     "shell.execute_reply": "2025-05-30T17:20:48.251526Z"
    },
    "papermill": {
     "duration": 0.172699,
     "end_time": "2025-05-30T17:20:48.255295",
     "exception": false,
     "start_time": "2025-05-30T17:20:48.082596",
     "status": "completed"
    },
    "tags": []
   },
   "outputs": [],
   "source": [
    "llm = ChatGoogleGenerativeAI(model=\"gemini-2.0-flash\")"
   ]
  },
  {
   "cell_type": "markdown",
   "id": "f2c325cb",
   "metadata": {
    "papermill": {
     "duration": 0.012826,
     "end_time": "2025-05-30T17:20:48.279877",
     "exception": false,
     "start_time": "2025-05-30T17:20:48.267051",
     "status": "completed"
    },
    "tags": []
   },
   "source": [
    "**4.5. Tools & Function Calling** \n",
    "\n",
    "Tools allow the agent to interact with external resources (like the question database).\n",
    "\n",
    "* Tool Definitions: Functions like select_question, list_questions, get_random_problem, get_difficulty_levels, get_topic_categories, and end_interview are decorated with @tool. Pydantic models (ListQuestionArgs, SelectQuestionArgs) define the expected arguments for some tools. These tools interact with the Pandas DataFrame (df) loaded earlier or manipulate the interview state.\n",
    "* Binding Tools: The tools are bound to the LLM (llm_with_tools = llm.bind_tools(...)). This allows the LLM to decide to call one or more of these functions and generate the necessary arguments in its response (tool_calls).\n",
    "* ToolNode: A LangGraph node specifically designed to execute the function calls requested by the LLM.\n",
    "* Custom Tool Handling: Specific tools (select_question, end_interview) require custom nodes (question_selection_node, finish_interview_node) to manipulate the InterviewState (e.g., update the current question, set the finished flag) based on the tool's execution, rather than just returning a simple text result.\n",
    "\n",
    "**How it solves the problems:**\n",
    "\n",
    "* Lack of Realistic Simulation: Tools allow the AI to perform actions beyond just talking, such as retrieving specific questions from a database (select_question, list_questions) or formally ending the interview (end_interview) based on the conversation flow. This mimics the procedural aspects of a real interview."
   ]
  },
  {
   "cell_type": "code",
   "execution_count": 20,
   "id": "842ef165",
   "metadata": {
    "execution": {
     "iopub.execute_input": "2025-05-30T17:20:48.306956Z",
     "iopub.status.busy": "2025-05-30T17:20:48.305930Z",
     "iopub.status.idle": "2025-05-30T17:20:48.341473Z",
     "shell.execute_reply": "2025-05-30T17:20:48.340362Z"
    },
    "papermill": {
     "duration": 0.05059,
     "end_time": "2025-05-30T17:20:48.343611",
     "exception": false,
     "start_time": "2025-05-30T17:20:48.293021",
     "status": "completed"
    },
    "tags": []
   },
   "outputs": [],
   "source": [
    "DIFFICULTY = tuple(df.difficulty.unique().tolist())\n",
    "TOPICS = tuple(df.topic.unique().tolist())\n",
    "IDS = df.id.apply(str).tolist()\n",
    "\n",
    "\n",
    "class ListQuestionArgs(BaseModel):\n",
    "    \"\"\"Input schema for the list_questions tool.\"\"\"\n",
    "    category: Literal[TOPICS] = Field(\n",
    "        description=\"The topic category to filter by\"\n",
    "    )\n",
    "    difficulty: Literal[DIFFICULTY] = Field(\n",
    "        description=\"The difficulty level to filter by (e.g., 'Easy', 'Medium', 'Hard').\"\n",
    "    )\n",
    "\n",
    "\n",
    "class SelectQuestionArgs(BaseModel):\n",
    "    \"\"\"Input schema for the select_question tool.\"\"\"\n",
    "    ID: Literal[tuple(IDS)] = Field(description=\"ID of the question\")\n",
    "\n",
    "\n",
    "\n",
    "@tool(args_schema=SelectQuestionArgs)\n",
    "def select_question(ID: str) -> str:\n",
    "    \"\"\"Shows user question with provided ID.\n",
    "    ALWAYS use this tool when the candidate confirms selected question.\n",
    "    You can start interview process ONLY after using this tool.\n",
    "    \"\"\"\n",
    "\n",
    "\n",
    "@tool(args_schema=ListQuestionArgs)\n",
    "def list_questions(category: str, difficulty: str) -> Union[str, List[str]]:\n",
    "    \"\"\"\n",
    "    Lists and returns question names and IDs, filtering by category and difficulty.\n",
    "    \"\"\"\n",
    "    filtered_df = df[(df['topic'].str.lower() == category.lower()) & (df['difficulty'].str.lower() == difficulty.lower())]\n",
    "    if filtered_df.empty:\n",
    "        return f\"There is no questions with the topic '{category}' and difficulty '{difficulty}'\"\n",
    "\n",
    "    questions_to_sample = min(len(filtered_df), 5)\n",
    "    filtered_sampled_df = filtered_df.sample(n=questions_to_sample)\n",
    "    \n",
    "    questions = []\n",
    "    for index, row in filtered_sampled_df[[\"id\", \"problem_name\"]].iterrows():\n",
    "        questions.append(f\"ID: {row.id}; Problem name: {row.problem_name}\")\n",
    "        \n",
    "    return questions\n",
    "\n",
    "\n",
    "@tool\n",
    "def get_random_problem() -> str:\n",
    "    \"\"\"Selects and returns a random question description.\"\"\"\n",
    "    try:\n",
    "        random_problem = df.sample(n=1).iloc[0]\n",
    "    except ValueError as e:\n",
    "         return f\"Error selecting problem after filtering: {e}\"\n",
    "\n",
    "    question = f\"ID: {random_problem.id} Problem name: {random_problem.problem_name} \"\n",
    "    return question\n",
    "\n",
    "\n",
    "@tool\n",
    "def get_difficulty_levels() -> List[str]:\n",
    "    \"\"\"Provides information about difficulty levels in question database.\n",
    "\n",
    "    Returns:\n",
    "      List of available difficulty levels in question database\n",
    "    \"\"\"\n",
    "    return df.difficulty.unique().tolist()\n",
    "\n",
    "\n",
    "@tool\n",
    "def get_topic_categories() -> List[str]:\n",
    "    \"\"\"Provides list of topics in question database.\n",
    "\n",
    "    Returns:\n",
    "      List of available topics in question database\n",
    "    \"\"\"\n",
    "    return df.topic.unique().tolist()\n",
    "\n",
    "\n",
    "@tool\n",
    "def end_interview() -> bool:\n",
    "    \"\"\"Ends interview, starts evaluation process of the candidate. Use this when the user said goodbye.\n",
    "    \"\"\""
   ]
  },
  {
   "cell_type": "markdown",
   "id": "cd744aac",
   "metadata": {
    "papermill": {
     "duration": 0.01194,
     "end_time": "2025-05-30T17:20:48.368592",
     "exception": false,
     "start_time": "2025-05-30T17:20:48.356652",
     "status": "completed"
    },
    "tags": []
   },
   "source": [
    "\n",
    "Here we are are using two types of tools: auto_tools and interview_tools. This is because langraph doesn't allow tools to change state. Therefore we need to create special nodes to execute such functions."
   ]
  },
  {
   "cell_type": "code",
   "execution_count": 21,
   "id": "f26784b4",
   "metadata": {
    "execution": {
     "iopub.execute_input": "2025-05-30T17:20:48.394138Z",
     "iopub.status.busy": "2025-05-30T17:20:48.393813Z",
     "iopub.status.idle": "2025-05-30T17:20:48.421148Z",
     "shell.execute_reply": "2025-05-30T17:20:48.420074Z"
    },
    "papermill": {
     "duration": 0.042521,
     "end_time": "2025-05-30T17:20:48.423427",
     "exception": false,
     "start_time": "2025-05-30T17:20:48.380906",
     "status": "completed"
    },
    "tags": []
   },
   "outputs": [],
   "source": [
    "auto_tools: List[BaseTool] = [get_difficulty_levels, get_topic_categories, get_random_problem, list_questions]\n",
    "tool_node = ToolNode(auto_tools)\n",
    "\n",
    "interview_tools: List[BaseTool] = [select_question, end_interview]\n",
    "llm_with_tools: Runnable = llm.bind_tools(auto_tools + interview_tools)"
   ]
  },
  {
   "cell_type": "markdown",
   "id": "8aca8ca7",
   "metadata": {
    "papermill": {
     "duration": 0.013966,
     "end_time": "2025-05-30T17:20:48.451892",
     "exception": false,
     "start_time": "2025-05-30T17:20:48.437926",
     "status": "completed"
    },
    "tags": []
   },
   "source": [
    "**4.6. Graph Nodes & Edges** \n",
    "\n",
    "The interview flow is defined by the nodes and edges in the LangGraph:\n",
    "\n",
    "* Nodes:\n",
    "    * chatbot: The main node where the LLM is called with the current state (messages, system prompt) to generate the next response or request a tool call.\n",
    "    * tools: Executes standard tool calls identified by the chatbot node (e.g., list_questions).\n",
    "question selection: Custom node to handle the select_question tool call and update the state.\n",
    "    * end interview: Custom node to handle the end_interview tool call, set the finished flag, and trigger the report generation.\n",
    "    * create report: Node called after end interview. It generates the evaluation using structured output and the learning recommendations using grounding, then formats the final report.\n",
    "      \n",
    "* Edges:\n",
    "    * START: The graph begins at the chatbot node.\n",
    "    * Conditional Edges (maybe_route_to_tools): After the chatbot node runs, this function checks the LLM's output. If tool_calls are present, it routes the flow to the appropriate tool node (tools, question selection, or end interview). If no tool calls are present, or after a tool has run, the graph might end (__end__), waiting for the next user input.\n",
    "    * The flow ensures that tool results are processed, state is updated, and the final report is generated upon completion.\n",
    "\n",
    "**How it solves the problems:**\n",
    "\n",
    "* Lack of Realistic Simulation: Defines a logical, structured flow (start -> select question -> solve -> maybe get hints -> end -> evaluate) that mirrors a typical interview process, preventing chaotic or unrealistic interactions.\n",
    "\n",
    "* Subjective/Delayed Feedback: The graph structure automates the transition from the interview end state (end interview node) directly to the evaluation (create report node), ensuring feedback generation is immediate.\n",
    "\n",
    "* Limited Accessibility/Scalability: The defined graph provides a reproducible and scalable blueprint for conducting the interview simulation."
   ]
  },
  {
   "cell_type": "code",
   "execution_count": 22,
   "id": "4c39aeb1",
   "metadata": {
    "execution": {
     "iopub.execute_input": "2025-05-30T17:20:48.480760Z",
     "iopub.status.busy": "2025-05-30T17:20:48.480261Z",
     "iopub.status.idle": "2025-05-30T17:20:48.487835Z",
     "shell.execute_reply": "2025-05-30T17:20:48.485739Z"
    },
    "papermill": {
     "duration": 0.023393,
     "end_time": "2025-05-30T17:20:48.490172",
     "exception": false,
     "start_time": "2025-05-30T17:20:48.466779",
     "status": "completed"
    },
    "tags": []
   },
   "outputs": [],
   "source": [
    "def chatbot_with_tools(state: InterviewState) -> InterviewState:\n",
    "    \"\"\"The chatbot node. Invokes the LLM with tools.\"\"\"\n",
    "    messages: List[BaseMessage] = state['messages']\n",
    "\n",
    "    system_and_messages: List[BaseMessage] = [SystemMessage(content=INTERVIEWER_SYSTEM_PROMPT)] + messages\n",
    "\n",
    "    if not messages:\n",
    "        ai_message = AIMessage(content=WELCOME_MSG)\n",
    "    else:\n",
    "        ai_message = llm_with_tools.invoke(system_and_messages)\n",
    "\n",
    "    return state | {\"messages\": [ai_message]}"
   ]
  },
  {
   "cell_type": "markdown",
   "id": "875f5021",
   "metadata": {
    "papermill": {
     "duration": 0.012401,
     "end_time": "2025-05-30T17:20:48.514449",
     "exception": false,
     "start_time": "2025-05-30T17:20:48.502048",
     "status": "completed"
    },
    "tags": []
   },
   "source": [
    "The question_selection_node uses ID to select a question. ID is provided by the modes in the tool arguments. The model knows the ID of a specific question from the tool that it called previously. Like list_questions and get_random_question. They return the question name and question ID."
   ]
  },
  {
   "cell_type": "code",
   "execution_count": 23,
   "id": "4f247a19",
   "metadata": {
    "execution": {
     "iopub.execute_input": "2025-05-30T17:20:48.543064Z",
     "iopub.status.busy": "2025-05-30T17:20:48.542683Z",
     "iopub.status.idle": "2025-05-30T17:20:48.552258Z",
     "shell.execute_reply": "2025-05-30T17:20:48.551039Z"
    },
    "papermill": {
     "duration": 0.028139,
     "end_time": "2025-05-30T17:20:48.554520",
     "exception": false,
     "start_time": "2025-05-30T17:20:48.526381",
     "status": "completed"
    },
    "tags": []
   },
   "outputs": [],
   "source": [
    "def question_selection_node(state: InterviewState) -> InterviewState:\n",
    "    \"\"\"The question selection node. This is where the interview state is manipulated.\"\"\"\n",
    "    \n",
    "    tool_msg: AIMessage = state.get(\"messages\", [])[-1]\n",
    "    question: str = state.get(\"question\", \"\")\n",
    "    outbound_msgs: List[ToolMessage] = []\n",
    "    tool_call: Dict[str, str]\n",
    "\n",
    "    for tool_call in tool_msg.tool_calls:\n",
    "\n",
    "        if tool_call[\"name\"] == \"select_question\":\n",
    "\n",
    "            ID: int = int(tool_call[\"args\"][\"ID\"])\n",
    "            \n",
    "            selected_question: pd.Series = df[df.id==ID].iloc[0]\n",
    "\n",
    "            question = selected_question.content\n",
    "            question_code: str = selected_question.code\n",
    "            instruction: str = \"Following question description is used to show you what this question is about. Return summarized version of this question \"\n",
    "            response: str = \"\\n\".join([instruction] + [question] + [f\"Initial code: {question_code}\"])\n",
    "\n",
    "        else:\n",
    "            raise NotImplementedError(f'Unknown tool call: {tool_call[\"name\"]}')\n",
    "\n",
    "        outbound_msgs.append(\n",
    "            ToolMessage(\n",
    "                content=response,\n",
    "                name=tool_call[\"name\"],\n",
    "                tool_call_id=tool_call[\"id\"],\n",
    "            )\n",
    "        )\n",
    "\n",
    "    return state | {\"messages\": outbound_msgs, \"question\": question, \"code\": question_code}"
   ]
  },
  {
   "cell_type": "code",
   "execution_count": 24,
   "id": "6f2cc1a8",
   "metadata": {
    "execution": {
     "iopub.execute_input": "2025-05-30T17:20:48.584192Z",
     "iopub.status.busy": "2025-05-30T17:20:48.583839Z",
     "iopub.status.idle": "2025-05-30T17:20:48.591489Z",
     "shell.execute_reply": "2025-05-30T17:20:48.590403Z"
    },
    "papermill": {
     "duration": 0.025493,
     "end_time": "2025-05-30T17:20:48.593335",
     "exception": false,
     "start_time": "2025-05-30T17:20:48.567842",
     "status": "completed"
    },
    "tags": []
   },
   "outputs": [],
   "source": [
    "def finish_interview_node(state: InterviewState) -> InterviewState:\n",
    "    \"\"\"The question selection node. This is where the interview state is manipulated.\"\"\"\n",
    "    \n",
    "    tool_msg: AIMessage = state.get(\"messages\", [])[-1]\n",
    "    finished: bool = state.get(\"finished\", False)\n",
    "    outbound_msgs: List[ToolMessage] = []\n",
    "    tool_call: Dict[str, str]\n",
    "\n",
    "    for tool_call in tool_msg.tool_calls:\n",
    "\n",
    "        if tool_call[\"name\"] == \"end_interview\":\n",
    "            finished = True\n",
    "            response: str = \"Say goodbye to the user\"\n",
    "\n",
    "        else:\n",
    "            raise NotImplementedError(f'Unknown tool call: {tool_call[\"name\"]}')\n",
    "\n",
    "        outbound_msgs.append(\n",
    "            ToolMessage(\n",
    "                content=response,\n",
    "                name=tool_call[\"name\"],\n",
    "                tool_call_id=tool_call[\"id\"],\n",
    "            )\n",
    "        )\n",
    "\n",
    "    return state | {\"messages\": outbound_msgs, \"finished\": finished}"
   ]
  },
  {
   "cell_type": "markdown",
   "id": "0d928204",
   "metadata": {
    "papermill": {
     "duration": 0.012455,
     "end_time": "2025-05-30T17:20:48.617748",
     "exception": false,
     "start_time": "2025-05-30T17:20:48.605293",
     "status": "completed"
    },
    "tags": []
   },
   "source": [
    "The create_report_node first calls Google API to generate a structured report using the EvaluationOutput schema. Then it calls the get_learning_resources function to generate a grounded learning plan to insert at the end of the report. After that, it renders this data with the jinja2 template, saves the file, and updates the state."
   ]
  },
  {
   "cell_type": "code",
   "execution_count": 25,
   "id": "cfc4ce8c",
   "metadata": {
    "execution": {
     "iopub.execute_input": "2025-05-30T17:20:48.643730Z",
     "iopub.status.busy": "2025-05-30T17:20:48.643401Z",
     "iopub.status.idle": "2025-05-30T17:20:48.654205Z",
     "shell.execute_reply": "2025-05-30T17:20:48.653054Z"
    },
    "papermill": {
     "duration": 0.026217,
     "end_time": "2025-05-30T17:20:48.656807",
     "exception": false,
     "start_time": "2025-05-30T17:20:48.630590",
     "status": "completed"
    },
    "tags": []
   },
   "outputs": [],
   "source": [
    "def create_report_node(state: InterviewState) -> InterviewState:\n",
    "    question: str = state.get(\"question\", \"\")\n",
    "    if not question or question == \"Problem has not been selected yet\": \n",
    "        print(\"No valid question selected. Skipping report generation.\")\n",
    "        return state | {\"report\": \"Report cannot be generated as no question was selected or the interview did not complete.\"}\n",
    "        \n",
    "    messages: List[BaseMessage] = state.get(\"messages\", [])\n",
    "    transcript: str = get_interview_transcript(messages)\n",
    "    code: str = state.get(\"code\", \"\")\n",
    "    \n",
    "    try:\n",
    "        evaluation_response = client.models.generate_content(\n",
    "            model='gemini-2.0-flash',\n",
    "            contents=CANDIDATE_EVALUATION_PROMPT.format(question=question, transcript=transcript, code=code),\n",
    "            config={\n",
    "                'response_mime_type': 'application/json',\n",
    "                'response_schema': EvaluationOutput,\n",
    "            },\n",
    "        )\n",
    "        evaluation_data: EvaluationOutput = evaluation_response.parsed\n",
    "    except Exception as e:\n",
    "        print(f\"Error generating candidate evaluation: {e}\")\n",
    "        return state | {\"report\": f\"Error generating evaluation report: {e}\"}\n",
    "\n",
    "    analytics: str\n",
    "    topics: str\n",
    "    analytics, topics = get_data_for_search(evaluation_response)\n",
    "    grounded_recommendations_md: str = get_learning_resources(question, analytics, topics, \"Python\")\n",
    "    \n",
    "    template: Template = Template(REPORT_TEMPLATE)\n",
    "    rendered_output: str = template.render({\"evaluation\": evaluation_data, \"recommendations\": grounded_recommendations_md})\n",
    "\n",
    "    try:\n",
    "        with open(\"candidate_report.md\", \"w\", encoding=\"utf-8\") as f:\n",
    "            f.write(rendered_output)\n",
    "        print(\"Candidate report generated successfully.\")\n",
    "    except IOError as e:\n",
    "        print(f\"Error writing report file: {e}\")\n",
    "        \n",
    "    return state | {\"report\": rendered_output}"
   ]
  },
  {
   "cell_type": "code",
   "execution_count": 26,
   "id": "2230beef",
   "metadata": {
    "execution": {
     "iopub.execute_input": "2025-05-30T17:20:48.685266Z",
     "iopub.status.busy": "2025-05-30T17:20:48.684925Z",
     "iopub.status.idle": "2025-05-30T17:20:48.692778Z",
     "shell.execute_reply": "2025-05-30T17:20:48.691630Z"
    },
    "papermill": {
     "duration": 0.026354,
     "end_time": "2025-05-30T17:20:48.695233",
     "exception": false,
     "start_time": "2025-05-30T17:20:48.668879",
     "status": "completed"
    },
    "tags": []
   },
   "outputs": [],
   "source": [
    "def maybe_route_to_tools(state: InterviewState) -> Literal[\"tools\", \"question selection\", \"end interview\", \"__end__\"]:\n",
    "    \"\"\"Routes to tools if the LLM's last message contained tool calls.\"\"\"\n",
    "    msgs: List[BaseMessage]\n",
    "    tool: Dict\n",
    "    \n",
    "    if not (msgs := state.get(\"messages\", [])):\n",
    "        raise ValueError(f\"No messages found when parsing state: {state}\")\n",
    "        \n",
    "    last_message: BaseMessage = state['messages'][-1]\n",
    "    if hasattr(last_message, \"tool_calls\") and len(last_message.tool_calls) > 0:\n",
    "        print(f\"Routing to tools based on message: {last_message.tool_calls}\")\n",
    "        # Route to `tools` node for any automated tool calls first.\n",
    "        if any(\n",
    "            tool[\"name\"] in tool_node.tools_by_name.keys() for tool in last_message.tool_calls\n",
    "        ):\n",
    "            return \"tools\"\n",
    "        elif any(\n",
    "            tool[\"name\"] == \"select_question\" for tool in last_message.tool_calls\n",
    "        ):\n",
    "            return \"question selection\"\n",
    "        elif any(\n",
    "            tool[\"name\"] == \"end_interview\" for tool in last_message.tool_calls\n",
    "        ):\n",
    "            return \"end interview\"\n",
    "        else:\n",
    "            return \"__end__\"\n",
    "    else:\n",
    "        return \"__end__\" # End the current graph invocation"
   ]
  },
  {
   "cell_type": "markdown",
   "id": "41f1f0df",
   "metadata": {
    "papermill": {
     "duration": 0.017402,
     "end_time": "2025-05-30T17:20:48.728268",
     "exception": false,
     "start_time": "2025-05-30T17:20:48.710866",
     "status": "completed"
    },
    "tags": []
   },
   "source": [
    "**4.7. Graph Compilation & Visualization**\n",
    "\n",
    "The defined nodes and edges are compiled into an executable LangGraph object (interviewer_graph)."
   ]
  },
  {
   "cell_type": "code",
   "execution_count": 27,
   "id": "d28ab87e",
   "metadata": {
    "execution": {
     "iopub.execute_input": "2025-05-30T17:20:48.771634Z",
     "iopub.status.busy": "2025-05-30T17:20:48.771196Z",
     "iopub.status.idle": "2025-05-30T17:20:48.795997Z",
     "shell.execute_reply": "2025-05-30T17:20:48.794577Z"
    },
    "papermill": {
     "duration": 0.051062,
     "end_time": "2025-05-30T17:20:48.798733",
     "exception": false,
     "start_time": "2025-05-30T17:20:48.747671",
     "status": "completed"
    },
    "tags": []
   },
   "outputs": [],
   "source": [
    "graph_builder = StateGraph(InterviewState)\n",
    "\n",
    "graph_builder.add_node(\"chatbot\", chatbot_with_tools)\n",
    "graph_builder.add_node(\"tools\", tool_node)\n",
    "graph_builder.add_node(\"question selection\", question_selection_node)\n",
    "graph_builder.add_node(\"end interview\", finish_interview_node)\n",
    "graph_builder.add_node(\"create report\", create_report_node)\n",
    "\n",
    "\n",
    "graph_builder.add_edge(START, \"chatbot\")\n",
    "graph_builder.add_conditional_edges(\n",
    "    \"chatbot\",\n",
    "    maybe_route_to_tools,\n",
    ")\n",
    "# After tools are executed, always return to the chatbot to process the tool results\n",
    "graph_builder.add_edge(\"tools\", \"chatbot\")\n",
    "graph_builder.add_edge(\"question selection\", \"chatbot\")\n",
    "graph_builder.add_edge(\"end interview\", \"create report\")\n",
    "graph_builder.add_edge(\"create report\", \"__end__\")\n",
    "interviewer_graph = graph_builder.compile()"
   ]
  },
  {
   "cell_type": "markdown",
   "id": "0b5d0c0a",
   "metadata": {
    "papermill": {
     "duration": 0.012316,
     "end_time": "2025-05-30T17:20:48.825373",
     "exception": false,
     "start_time": "2025-05-30T17:20:48.813057",
     "status": "completed"
    },
    "tags": []
   },
   "source": [
    "Using display(Image(url=...)) instead of Image(interviewer_graph.get_graph().draw_mermaid_png()) because mermaid gave me connection errors."
   ]
  },
  {
   "cell_type": "code",
   "execution_count": 28,
   "id": "b96207a9",
   "metadata": {
    "execution": {
     "iopub.execute_input": "2025-05-30T17:20:48.854243Z",
     "iopub.status.busy": "2025-05-30T17:20:48.853916Z",
     "iopub.status.idle": "2025-05-30T17:20:48.862249Z",
     "shell.execute_reply": "2025-05-30T17:20:48.860739Z"
    },
    "papermill": {
     "duration": 0.025206,
     "end_time": "2025-05-30T17:20:48.864559",
     "exception": false,
     "start_time": "2025-05-30T17:20:48.839353",
     "status": "completed"
    },
    "tags": []
   },
   "outputs": [
    {
     "data": {
      "text/html": [
       "<img src=\"https://raw.githubusercontent.com/satheeshbhukya/AI-mock-Interviewer/main/static/graph-visualisation.png\" width=\"500\"/>"
      ],
      "text/plain": [
       "<IPython.core.display.Image object>"
      ]
     },
     "metadata": {},
     "output_type": "display_data"
    }
   ],
   "source": [
    "graph_visual_url=\"https://raw.githubusercontent.com/satheeshbhukya/AI-mock-Interviewer/main/static/graph-visualisation.png\"\n",
    "try:\n",
    "    display(Image(url=graph_visual_url, width=500))\n",
    "except Exception as e:\n",
    "    print(f\"Error displaying image from {graph_visual_url}: {e}\")\n",
    "    print(\"Please check the URL and your internet connection.\")"
   ]
  },
  {
   "cell_type": "markdown",
   "id": "786f04c3",
   "metadata": {
    "papermill": {
     "duration": 0.0138,
     "end_time": "2025-05-30T17:20:48.890478",
     "exception": false,
     "start_time": "2025-05-30T17:20:48.876678",
     "status": "completed"
    },
    "tags": []
   },
   "source": [
    " ## 5. Showcasing GenAI Capabilities\n",
    " \n",
    "This project explicitly demonstrates several powerful Generative AI features available through the Gemini API and LangChain/LangGraph:\n",
    "\n",
    "* Function Calling: The interviewer agent uses tools (list_questions, select_question, get_random_problem, end_interview, etc.) defined with the @tool decorator. The LLM (llm_with_tools) decides when to call these functions based on the conversation and system prompt, generating the required arguments. This allows the agent to interact with the external question database and control the interview flow (e.g., ending the interview). The ToolNode and custom tool nodes handle the execution.\n",
    "\n",
    "* Structured Output: The create_report_node leverages Gemini's ability to generate JSON output conforming to a predefined schema. By defining Pydantic models (EvaluationOutput, etc.) and specifying them in the generate_content call (response_schema), we ensure the evaluation report is consistently structured, making it easy to parse and format using the Jinja2 template (REPORT_TEMPLATE).\n",
    "\n",
    "* Few-Shot Learning: The INTERVIEWER_SYSTEM_PROMPT includes explicit examples of interactions (e.g., how to provide hints, how to respond to whiteboard input). This provides the LLM with concrete examples of the desired behavior, improving its ability to follow instructions and adopt the correct persona and interaction style.\n",
    "\n",
    "* Image Understanding (Multimodality): The application accepts whiteboard sketches via the Gradio Sketchpad. The chat_interface_update function encodes the PIL image to base64. The get_interview_transcript function then incorporates this image data when creating the full transcript passed to the evaluation model. It uses a Gemini Vision model via DESCRIBE_IMAGE_PROMPT to generate a textual description of the image, integrating visual information into the context.\n",
    "\n",
    "* Agents (LangGraph): The entire interviewer is built as a stateful agent using LangGraph. It maintains the conversation state (InterviewState), transitions between different processing steps (nodes like chatbot, tools, create_report), and makes decisions based on LLM outputs and tool results (conditional edges via maybe_route_to_tools). This enables the complex, multi-turn, and tool-using behavior required for the simulation.\n",
    "\n",
    "* Long Context Window: The agent handles potentially long interview conversations. The InterviewState accumulates all messages. The get_interview_transcript function processes this entire history, and the create_report_node passes the full transcript to the evaluation model, allowing it to consider the entire interaction when generating the assessment. Gemini's long context capabilities are essential here.\n",
    "\n",
    "* Grounding (Gemini with Google Search): The get_learning_resources function implements grounding. It calls Gemini with a specific prompt (RESOURCES_SEARCH_PROMPT) and enables the GoogleSearch tool. Gemini uses search results to generate a grounded learning plan based on the evaluation feedback and identified topics, ensuring the recommendations are relevant and based on real-world information. The system automatically handles citations for the sources used.\n",
    "\n",
    "## 6. Gradio User Interface \n",
    "\n",
    "To make the Mock Interviewer interactive, I build a web interface using Gradio.\n",
    "\n",
    "**6.1. Interaction Logic** \n",
    "\n",
    "* State Management (gr.State): A Gradio State object (chat_state) holds the current InterviewState (messages, question, code, finished flag) and UI-related flags (code_changed, image_changed) between interactions.\n",
    "* Initialization (init_chat): When the Gradio app loads, this function runs the LangGraph with an empty initial state to get the welcome message from the chatbot node and sets up the initial UI components.\n",
    "* Update Loop (chat_interface_update): This is the core function triggered by the \"Send Message\" button.\n",
    "    * It retrieves the current state and user inputs (text, code, image).\n",
    "    * It checks if the interview is already marked as finished.\n",
    "    * It packages the user's input (text, code, image description) into a HumanMessage. Special handling ensures code and images are included only if they've changed since the last turn. Images are base64 encoded.\n",
    "    * It appends the new HumanMessage to the state's message list.\n",
    "    * It invokes the interviewer_graph with the updated state.\n",
    "    * It processes the new_state returned by the graph:\n",
    "        * Extracts the latest AI message to display.\n",
    "        * Updates the problem description and code editor content if they changed.\n",
    "        * Checks the finished flag in the new state.\n",
    "        * Updates the chat_state for the next turn.\n",
    "        * Updates the visibility of the Download button based on the finished flag.\n",
    "        * Returns updates for all relevant Gradio components.\n",
    "* Input Change Handlers: mark_code_as_changed and mark_image_as_changed are triggered by changes in the gr.Code and gr.Sketchpad inputs, respectively. They update the corresponding data and flags in the chat_state without triggering a full graph invocation, ensuring that code/image changes are only sent when the user explicitly clicks \"Send Message\".\n",
    "\n",
    "**How it solves the problem**\n",
    "\n",
    "* Enhances Realism : Provides interactive text, code, and whiteboard inputs, mimicking real interview tools. The turn-by-turn interface simulates a dynamic, stateful conversation.\n",
    "* Improves Accessibility & Scalability : As a web application, it offers practice anytime, anywhere, connecting users to the scalable AI backend without needing human interviewer availability or specialized software.\n",
    "* Ensures Immediate & Actionable Feedback: Delivers the standardized evaluation report via an immediate download button upon interview completion. This report clearly highlights specific weaknesses and provides targeted learning resources, enabling focused improvement."
   ]
  },
  {
   "cell_type": "code",
   "execution_count": 29,
   "id": "c1733674",
   "metadata": {
    "execution": {
     "iopub.execute_input": "2025-05-30T17:20:48.918724Z",
     "iopub.status.busy": "2025-05-30T17:20:48.918374Z",
     "iopub.status.idle": "2025-05-30T17:20:48.938895Z",
     "shell.execute_reply": "2025-05-30T17:20:48.937829Z"
    },
    "papermill": {
     "duration": 0.035484,
     "end_time": "2025-05-30T17:20:48.940888",
     "exception": false,
     "start_time": "2025-05-30T17:20:48.905404",
     "status": "completed"
    },
    "tags": []
   },
   "outputs": [],
   "source": [
    "def chat_interface_update(user_input: str, chat_state: dict) -> Tuple:\n",
    "    \"\"\"\n",
    "    Handles user input, runs the LangGraph, and returns the AI response and updated state.\n",
    "    \"\"\"\n",
    "    REPORT_FILENAME = \"candidate_report.md\"\n",
    "\n",
    "    # Check if state exists and initialize it if not\n",
    "    if not chat_state or 'messages' not in chat_state:\n",
    "        chat_state = {\n",
    "            \"messages\": [], \n",
    "            \"question\": \"Problem has not been selected yet\", \n",
    "            \"code\": \"# Your code\", \n",
    "            \"code_changed\": False, \n",
    "            \"image_changed\": False,\n",
    "            \"finished\": False\n",
    "        }\n",
    "    \n",
    "    current_messages: str = chat_state.get('messages', [])\n",
    "    current_problem: str = chat_state.get('question', \"Problem has not been selected yet\")\n",
    "    current_code: str = chat_state.get('code', \"# Your code\")\n",
    "    current_image: Optional[PIL.Image] = chat_state.get('image', None)\n",
    "    code_changed: bool = chat_state.get('code_changed', False)\n",
    "    image_changed: bool = chat_state.get('image_changed', False)\n",
    "    finished: bool = chat_state.get('finished', False)\n",
    "\n",
    "    # Check if finished to display predifined message and show Download report button\n",
    "    if finished:\n",
    "        print(\"Interview already marked as finished.\")\n",
    "        final_message = \"Interview is finished. Your report is ready for download below.\\n\\n\" + chat_state.get(\"report\", \"\")\n",
    "        return (\n",
    "            gr.update(value=final_message),    # output_text\n",
    "            gr.update(),                       \n",
    "            gr.update(),                       \n",
    "            chat_state,                        \n",
    "            gr.update(visible=True),\n",
    "            gr.update(visible=False),\n",
    "        )\n",
    "\n",
    "    # Initializing content to pass text, code and image (if included)\n",
    "    content: List[Dict[str, Any]] = []\n",
    "    \n",
    "    if user_input:\n",
    "        content.append({\"type\": \"text\", \"text\": user_input})\n",
    "    \n",
    "    if code_changed:\n",
    "        content.append({\"type\": \"text\", \"text\": f\"\\nCode:```python\\n{current_code}\\n```\"})\n",
    "\n",
    "    if image_changed:\n",
    "        # Get converted to base64 image\n",
    "        base64_image: str = encode64_pil_image(current_image)\n",
    "        content.append({\"type\": \"text\", \"text\": \"Here is a screenshot of my whiteboard\"})\n",
    "        content.append({\"type\": \"image_url\", \"image_url\": {\"url\": f\"data:image/jpeg;base64,{base64_image}\"}})\n",
    "\n",
    "    if not user_input and (not code_changed or not current_code):\n",
    "        ai_response_content = \"Please provide you explanations in the textbox or your code in the code area\"\n",
    "        return (\n",
    "            gr.update(value=ai_response_content),\n",
    "            gr.update(value=current_problem),\n",
    "            gr.update(value=current_code),\n",
    "            chat_state,\n",
    "            gr.update(visible=False),\n",
    "            gr.update(),\n",
    "        )\n",
    "\n",
    "    # Check for input\n",
    "    if content:\n",
    "        current_messages.append(HumanMessage(content=content))\n",
    "        chat_state['code_changed'] = False # Reset flags\n",
    "        chat_state['image_changed'] = False\n",
    "    elif not current_messages: # Allow initial empty message\n",
    "        pass\n",
    "    else: # No new input, code, or image change\n",
    "        print(\"No new input, code, or image change.\")\n",
    "        ai_response_content: str = \"Please provide input, type code, or draw on the whiteboard.\"\n",
    "        return (\n",
    "            gr.update(value=ai_response_content),\n",
    "            gr.update(value=current_problem),\n",
    "            gr.update(value=current_code),\n",
    "            chat_state,\n",
    "            gr.update(visible=False),\n",
    "            gr.update(),\n",
    "        )\n",
    "\n",
    "    graph_input: Dict[str, Any] = {\"messages\": current_messages, \"question\": current_problem, \"code\": current_code}\n",
    "    \n",
    "    try:\n",
    "        new_state: InterviewState = interviewer_graph.invoke(graph_input)\n",
    "    except Exception as e:\n",
    "        print(f\"Error invoking interviewer graph: {e}\")\n",
    "        ai_response_content = f\"An error occurred: {e}\"\n",
    "        return (\n",
    "            gr.update(value=ai_response_content), \n",
    "            gr.update(value=current_problem),     \n",
    "            gr.update(value=current_code),        \n",
    "            chat_state,                           \n",
    "            gr.update(visible=False),\n",
    "            gr.update(),\n",
    "        )\n",
    "\n",
    "    ai_response_content: str = \"\"\n",
    "    interview_finished_this_turn: bool = new_state.get('finished', False)\n",
    "    if new_state and 'messages' in new_state and new_state['messages']:\n",
    "        # Find the last AI message to display\n",
    "        for msg in reversed(new_state['messages']):\n",
    "            if isinstance(msg, AIMessage):\n",
    "                # Sanitizing ai message (in some cases model is returning answer in list)\n",
    "                ai_response_content = msg.content if type(msg.content) == str else msg.content[0]\n",
    "                break\n",
    "            elif isinstance(msg, ToolMessage):\n",
    "                if msg.name == \"end_interview\" and interview_finished_this_turn:\n",
    "                    ai_response_content = \"Thank you for your time. Interview is finished. Reload to start a new one.\\n\\n\"\n",
    "                    break\n",
    "        if not ai_response_content:\n",
    "            ai_response_content = \"Tool executed. Waiting for next step.\"\n",
    "\n",
    "    else:\n",
    "        ai_response_content = \"Error: No messages found in the new state.\"\n",
    "\n",
    "\n",
    "    if interview_finished_this_turn:\n",
    "        ai_response_content += f\"\\n\\n**Interview finished! Your report is ready for download below.**\\n\\n{new_state.get('report', '')}\"\n",
    "        return (\n",
    "            gr.update(value=ai_response_content),\n",
    "            gr.update(visible=False),\n",
    "            gr.update(visible=False),\n",
    "            new_state,\n",
    "            gr.update(visible=interview_finished_this_turn),\n",
    "            gr.update(visible=False),\n",
    "        )\n",
    "\n",
    "    # Update state variables\n",
    "    updated_problem_desc: str = new_state.get('question', current_problem)\n",
    "    updated_problem_code: str = new_state.get('code', current_code)\n",
    "\n",
    "    # Create the final state dictionary to return to Gradio\n",
    "    final_chat_state: Dict[str, Any] = new_state.copy()\n",
    "    final_chat_state['code_changed'] = False\n",
    "    final_chat_state['image_changed'] = False\n",
    "\n",
    "    return (\n",
    "        gr.update(value=ai_response_content),  \n",
    "        gr.update(value=updated_problem_desc),\n",
    "        gr.update(value=updated_problem_code),\n",
    "        final_chat_state,\n",
    "        gr.update(visible=interview_finished_this_turn),\n",
    "        gr.update(),\n",
    "    )\n",
    "# Function to initialize the chat when Gradio load\n",
    "def init_chat() -> Tuple:\n",
    "    initial_problem_text: str = \"Problem has not been selected yet\"\n",
    "    initial_problem_code: str = \"# Your code\"\n",
    "    initial_state_dict: Dict[str, Any]\n",
    "\n",
    "    initial_state_dict = {\"messages\": [], \n",
    "                          \"question\": initial_problem_text, \n",
    "                          \"code_changed\": False,\n",
    "                          \"image_changfed\": False,\n",
    "                          \"finished\": False\n",
    "                         }\n",
    "    \n",
    "    \n",
    "    # Run the graph with empty messages to get the initial welcome message\n",
    "    initial_state: InterviewState = interviewer_graph.invoke(initial_state_dict)\n",
    "    welcome_message: str = \"Error: Could not get initial message.\"\n",
    "    if initial_state and initial_state.get('messages'):\n",
    "        welcome_message = initial_state['messages'][-1].content\n",
    "\n",
    "    problem_desc_on_load: str = initial_state.get('question', initial_problem_text)\n",
    "    problem_code_on_load: str = initial_state.get('code', initial_problem_code)\n",
    "\n",
    "    return (\n",
    "        welcome_message, \n",
    "        problem_desc_on_load, \n",
    "        problem_code_on_load, \n",
    "        initial_state if initial_state else {}, \n",
    "        gr.update(visible=False)\n",
    "    )"
   ]
  },
  {
   "cell_type": "code",
   "execution_count": 30,
   "id": "6bd46a76",
   "metadata": {
    "execution": {
     "iopub.execute_input": "2025-05-30T17:20:48.968634Z",
     "iopub.status.busy": "2025-05-30T17:20:48.968164Z",
     "iopub.status.idle": "2025-05-30T17:20:48.975855Z",
     "shell.execute_reply": "2025-05-30T17:20:48.974477Z"
    },
    "papermill": {
     "duration": 0.024123,
     "end_time": "2025-05-30T17:20:48.978459",
     "exception": false,
     "start_time": "2025-05-30T17:20:48.954336",
     "status": "completed"
    },
    "tags": []
   },
   "outputs": [],
   "source": [
    "def mark_code_as_changed(current_state: Dict[str, Any], input_code: str) -> Dict:\n",
    "    \"\"\"Update code and code_changes in state when code changes\"\"\"\n",
    "    if not current_state:\n",
    "        current_state = {}\n",
    "    current_state['code_changed'] = True\n",
    "    current_state['code'] = input_code\n",
    "    return current_state\n",
    "\n",
    "\n",
    "def mark_image_as_changed(current_state: Dict[str, Any], im: Dict[str, Any]) -> Dict:\n",
    "    \"\"\"Update image and image_changed in state when image changes\"\"\"\n",
    "    print(\"Detected image change\")\n",
    "    if not current_state:\n",
    "        current_state = {}\n",
    "    current_state['image_changed'] = True\n",
    "    current_state['image'] = im[\"composite\"]\n",
    "    return current_state"
   ]
  },
  {
   "cell_type": "markdown",
   "id": "1879c663",
   "metadata": {
    "papermill": {
     "duration": 0.012448,
     "end_time": "2025-05-30T17:20:49.003494",
     "exception": false,
     "start_time": "2025-05-30T17:20:48.991046",
     "status": "completed"
    },
    "tags": []
   },
   "source": [
    "**6.2. UI Components**\n",
    "\n",
    "The interface consists of:\n",
    "\n",
    "* Problem Display (gr.Markdown): Shows the description of the currently selected coding problem.\n",
    "* Interviewer Response (gr.Markdown): Displays the AI interviewer's messages.\n",
    "* User Input (gr.Textbox): A multi-line text box for the candidate to type their responses.\n",
    "* Code Input (gr.Code): A code editor with Python syntax highlighting where the candidate can write and submit their code solution.\n",
    "* Whiteboard (gr.Sketchpad): Allows the candidate to draw diagrams or pseudocode to explain their thinking visually.\n",
    "* Send Button (gr.Button): Submits the user's text, code (if changed), and whiteboard sketch (if changed) to the backend.\n",
    "* Download Report Button (gr.DownloadButton): Appears only after the interview is finished, allowing the user to download the generated Markdown evaluation report (candidate_report.md)."
   ]
  },
  {
   "cell_type": "code",
   "execution_count": 31,
   "id": "aab38936",
   "metadata": {
    "execution": {
     "iopub.execute_input": "2025-05-30T17:20:49.028772Z",
     "iopub.status.busy": "2025-05-30T17:20:49.028422Z",
     "iopub.status.idle": "2025-05-30T17:20:49.291266Z",
     "shell.execute_reply": "2025-05-30T17:20:49.289639Z"
    },
    "papermill": {
     "duration": 0.277581,
     "end_time": "2025-05-30T17:20:49.293628",
     "exception": false,
     "start_time": "2025-05-30T17:20:49.016047",
     "status": "completed"
    },
    "tags": []
   },
   "outputs": [],
   "source": [
    "with gr.Blocks() as demo:\n",
    "    gr.Markdown(\"## Mock Technologies Inc. - Technical Interviewer\")\n",
    "    # Store LangGraph state here\n",
    "    chat_state = gr.State({}) # Initialize as an empty dictionary\n",
    "\n",
    "    problem_display = gr.Markdown(\"Problem has not been selected yet\", container=True, label=\"Selected Problem\")\n",
    "    output_text = gr.Markdown(label=\"Interviewer Response\", container=True) # For AI messages\n",
    "\n",
    "    with gr.Row():\n",
    "        with gr.Column(scale=5):\n",
    "            input_text = gr.Textbox(label=\"Your message\", placeholder=\"Type your message here...\", lines=5)\n",
    "            \n",
    "        with gr.Column(scale=5):\n",
    "            input_code = gr.Code(\"# Your code\", label=\"Code\", language=\"python\", interactive=True, lines=7)\n",
    "            input_code.input(mark_code_as_changed, inputs=[chat_state, input_code], outputs=[chat_state], show_progress=\"hidden\")\n",
    "            \n",
    "        with gr.Column(scale=1):\n",
    "            submit_button = gr.Button(\"Send Message\")\n",
    "\n",
    "    im = gr.Sketchpad(\n",
    "        label='Whiteboard',\n",
    "        type=\"pil\",\n",
    "        width=800,\n",
    "        height=400,\n",
    "        canvas_size=(800, 400),\n",
    "        layers=gr.LayerOptions(disabled=True),\n",
    "    ) \n",
    "\n",
    "    im.change(mark_image_as_changed, inputs=[chat_state, im], outputs=[chat_state], show_progress=\"hidden\")\n",
    "\n",
    "    # Download Button - initially hidden\n",
    "    download_report = gr.DownloadButton(\n",
    "        label=\"Download Interview Report\",\n",
    "        value=\"candidate_report.md\", \n",
    "        visible=False,\n",
    "    )\n",
    "\n",
    "    # Define the list of components to update on submit button click\n",
    "    submit_outputs = [\n",
    "        output_text,\n",
    "        problem_display,\n",
    "        input_code,\n",
    "        chat_state,\n",
    "        download_report,\n",
    "        im\n",
    "    ]\n",
    "\n",
    "    # Define outputs for demo.load (must match init_chat return)\n",
    "    load_outputs = [\n",
    "        output_text,\n",
    "        problem_display,\n",
    "        input_code,\n",
    "        chat_state,\n",
    "        download_report\n",
    "    ]\n",
    "\n",
    "    # Load initial message\n",
    "    demo.load(init_chat, inputs=None, outputs=load_outputs)\n",
    "\n",
    "    submit_button.click(\n",
    "        chat_interface_update,\n",
    "        inputs=[input_text, chat_state],\n",
    "        outputs=submit_outputs\n",
    "    )\n",
    "    # Clear input textbox after submit\n",
    "    submit_button.click(lambda: \"\", outputs=[input_text])"
   ]
  },
  {
   "cell_type": "markdown",
   "id": "08ae5e85",
   "metadata": {
    "papermill": {
     "duration": 0.011969,
     "end_time": "2025-05-30T17:20:49.318388",
     "exception": false,
     "start_time": "2025-05-30T17:20:49.306419",
     "status": "completed"
    },
    "tags": []
   },
   "source": [
    "**IMPORTANT** \n",
    "\n",
    "* The app built in this notebook uses Gradio launch function to run an UI interface. This section is commented-out to ensure that you can use the Run all feature without interruption. At the end of this notebook you will need to uncomment the demo.launch(...) call in order to interact with the app.\n",
    "\n",
    "* If you wish to save a version of this notebook with Save and Run all, you will need to re-comment the line you commented out to ensure that the notebook can run without human input."
   ]
  },
  {
   "cell_type": "code",
   "execution_count": 32,
   "id": "6df607fc",
   "metadata": {
    "execution": {
     "iopub.execute_input": "2025-05-30T17:20:49.345475Z",
     "iopub.status.busy": "2025-05-30T17:20:49.345117Z",
     "iopub.status.idle": "2025-05-30T17:20:49.350312Z",
     "shell.execute_reply": "2025-05-30T17:20:49.348990Z"
    },
    "papermill": {
     "duration": 0.020595,
     "end_time": "2025-05-30T17:20:49.352373",
     "exception": false,
     "start_time": "2025-05-30T17:20:49.331778",
     "status": "completed"
    },
    "tags": []
   },
   "outputs": [],
   "source": [
    "#demo.launch() # Added share=True for Kaggle"
   ]
  },
  {
   "cell_type": "markdown",
   "id": "b5a03879",
   "metadata": {
    "papermill": {
     "duration": 0.012408,
     "end_time": "2025-05-30T17:20:49.376344",
     "exception": false,
     "start_time": "2025-05-30T17:20:49.363936",
     "status": "completed"
    },
    "tags": []
   },
   "source": [
    "It seems that there is some problem with downloading a file. It could be due to some problems with gradio live hosting. You can still download the report (if you tried to run the app and made it to the end) in the /kaggle/working directory. I also added report output on the main page."
   ]
  },
  {
   "cell_type": "markdown",
   "id": "7498300d",
   "metadata": {
    "papermill": {
     "duration": 0.010901,
     "end_time": "2025-05-30T17:20:49.399324",
     "exception": false,
     "start_time": "2025-05-30T17:20:49.388423",
     "status": "completed"
    },
    "tags": []
   },
   "source": [
    "Uncomment and run this to close the gradio session."
   ]
  },
  {
   "cell_type": "code",
   "execution_count": 33,
   "id": "dbe37214",
   "metadata": {
    "execution": {
     "iopub.execute_input": "2025-05-30T17:20:49.426370Z",
     "iopub.status.busy": "2025-05-30T17:20:49.426053Z",
     "iopub.status.idle": "2025-05-30T17:20:49.431599Z",
     "shell.execute_reply": "2025-05-30T17:20:49.429875Z"
    },
    "papermill": {
     "duration": 0.021503,
     "end_time": "2025-05-30T17:20:49.433646",
     "exception": false,
     "start_time": "2025-05-30T17:20:49.412143",
     "status": "completed"
    },
    "tags": []
   },
   "outputs": [],
   "source": [
    " #demo.close()"
   ]
  },
  {
   "cell_type": "markdown",
   "id": "7447aa2d",
   "metadata": {
    "papermill": {
     "duration": 0.012003,
     "end_time": "2025-05-30T17:20:49.458797",
     "exception": false,
     "start_time": "2025-05-30T17:20:49.446794",
     "status": "completed"
    },
    "tags": []
   },
   "source": [
    "## 7.Examples"
   ]
  },
  {
   "cell_type": "code",
   "execution_count": 34,
   "id": "eab69066",
   "metadata": {
    "execution": {
     "iopub.execute_input": "2025-05-30T17:20:49.485624Z",
     "iopub.status.busy": "2025-05-30T17:20:49.485139Z",
     "iopub.status.idle": "2025-05-30T17:20:49.491202Z",
     "shell.execute_reply": "2025-05-30T17:20:49.489854Z"
    },
    "papermill": {
     "duration": 0.02251,
     "end_time": "2025-05-30T17:20:49.493458",
     "exception": false,
     "start_time": "2025-05-30T17:20:49.470948",
     "status": "completed"
    },
    "tags": []
   },
   "outputs": [],
   "source": [
    "start_page_image_url=\"https://raw.githubusercontent.com/satheeshbhukya/AI-mock-Interviewer/main/static/firstpage.png\"\n",
    "loaded_problem_image_url = \"https://raw.githubusercontent.com/satheeshbhukya/AI-mock-Interviewer/main/static/probelm.png\"\n",
    "code_with_whiteboard_image_url = \"https://raw.githubusercontent.com/satheeshbhukya/AI-mock-Interviewer/main/static/whiteboardcode.png\"\n"
   ]
  },
  {
   "cell_type": "code",
   "execution_count": 35,
   "id": "081998fb",
   "metadata": {
    "execution": {
     "iopub.execute_input": "2025-05-30T17:20:49.517941Z",
     "iopub.status.busy": "2025-05-30T17:20:49.517622Z",
     "iopub.status.idle": "2025-05-30T17:20:49.524401Z",
     "shell.execute_reply": "2025-05-30T17:20:49.523380Z"
    },
    "papermill": {
     "duration": 0.020903,
     "end_time": "2025-05-30T17:20:49.525869",
     "exception": false,
     "start_time": "2025-05-30T17:20:49.504966",
     "status": "completed"
    },
    "tags": []
   },
   "outputs": [
    {
     "data": {
      "text/html": [
       "<img src=\"https://raw.githubusercontent.com/satheeshbhukya/AI-mock-Interviewer/main/static/firstpage.png\"/>"
      ],
      "text/plain": [
       "<IPython.core.display.Image object>"
      ]
     },
     "metadata": {},
     "output_type": "display_data"
    }
   ],
   "source": [
    "try:\n",
    "    display(Image(url=start_page_image_url))\n",
    "except Exception as e:\n",
    "    print(f\"Error displaying image from {start_page_image_url}: {e}\")\n",
    "    print(\"Please check the URL and your internet connection.\")"
   ]
  },
  {
   "cell_type": "code",
   "execution_count": 36,
   "id": "4412c68c",
   "metadata": {
    "execution": {
     "iopub.execute_input": "2025-05-30T17:20:49.552702Z",
     "iopub.status.busy": "2025-05-30T17:20:49.552204Z",
     "iopub.status.idle": "2025-05-30T17:20:49.560478Z",
     "shell.execute_reply": "2025-05-30T17:20:49.559172Z"
    },
    "papermill": {
     "duration": 0.024382,
     "end_time": "2025-05-30T17:20:49.562292",
     "exception": false,
     "start_time": "2025-05-30T17:20:49.537910",
     "status": "completed"
    },
    "tags": []
   },
   "outputs": [
    {
     "data": {
      "text/html": [
       "<img src=\"https://raw.githubusercontent.com/satheeshbhukya/AI-mock-Interviewer/main/static/probelm.png\"/>"
      ],
      "text/plain": [
       "<IPython.core.display.Image object>"
      ]
     },
     "metadata": {},
     "output_type": "display_data"
    }
   ],
   "source": [
    "try:\n",
    "    display(Image(url=loaded_problem_image_url))\n",
    "except Exception as e:\n",
    "    print(f\"Error displaying image from {loaded_problem_image_url}: {e}\")\n",
    "    print(\"Please check the URL and your internet connection.\")\n"
   ]
  },
  {
   "cell_type": "code",
   "execution_count": 37,
   "id": "a998f16e",
   "metadata": {
    "execution": {
     "iopub.execute_input": "2025-05-30T17:20:49.590028Z",
     "iopub.status.busy": "2025-05-30T17:20:49.589688Z",
     "iopub.status.idle": "2025-05-30T17:20:49.597729Z",
     "shell.execute_reply": "2025-05-30T17:20:49.596422Z"
    },
    "papermill": {
     "duration": 0.02494,
     "end_time": "2025-05-30T17:20:49.599400",
     "exception": false,
     "start_time": "2025-05-30T17:20:49.574460",
     "status": "completed"
    },
    "tags": []
   },
   "outputs": [
    {
     "data": {
      "text/html": [
       "<img src=\"https://raw.githubusercontent.com/satheeshbhukya/AI-mock-Interviewer/main/static/whiteboardcode.png\"/>"
      ],
      "text/plain": [
       "<IPython.core.display.Image object>"
      ]
     },
     "metadata": {},
     "output_type": "display_data"
    }
   ],
   "source": [
    "try:\n",
    "    display(Image(url=code_with_whiteboard_image_url))\n",
    "except Exception as e:\n",
    "    print(f\"Error displaying image from {code_with_whiteboard_image_url}: {e}\")\n",
    "    print(\"Please check the URL and your internet connection.\")"
   ]
  },
  {
   "cell_type": "markdown",
   "id": "bddde1d5",
   "metadata": {
    "papermill": {
     "duration": 0.011682,
     "end_time": "2025-05-30T17:20:49.623160",
     "exception": false,
     "start_time": "2025-05-30T17:20:49.611478",
     "status": "completed"
    },
    "tags": []
   },
   "source": [
    "## 8. Conclusion & Future Work¶\n",
    "\n",
    "Conclusion \n",
    "* This project successfully demonstrates the creation of a sophisticated, AI-powered Mock Technical Interviewer using Google Gemini and LangGraph. By integrating features like stateful agentic behavior, function calling, structured output, multimodal input (text, code, image), and grounded recommendations, it provides a valuable and interactive tool for developers preparing for technical interviews. The detailed evaluation report and personalized learning plan offer actionable feedback to help users identify strengths and weaknesses.\n",
    "\n",
    "Potential Future Work\n",
    "* More Question Types: Expand the data.json to include system design, behavioral questions, or questions for different roles/levels.\n",
    "* Voice Interaction: Integrate speech-to-text and text-to-speech for a more natural conversational experience.\n",
    "* Code Execution & Testing: Allow the agent to actually run the candidate's code against test cases and provide feedback on correctness and performance.\n",
    "* More Sophisticated Evaluation: Fine-tune the evaluation prompt or use multiple LLM calls for deeper analysis of specific aspects (e.g., code quality metrics, complexity analysis).\n",
    "* Persistence: Allow users to save and resume interview sessions.\n",
    "* Different Interviewer Personas: Offer options for different interviewer styles (e.g., more challenging, more collaborative)."
   ]
  }
 ],
 "metadata": {
  "kaggle": {
   "accelerator": "none",
   "dataSources": [],
   "dockerImageVersionId": 31040,
   "isGpuEnabled": false,
   "isInternetEnabled": true,
   "language": "python",
   "sourceType": "notebook"
  },
  "kernelspec": {
   "display_name": "Python 3",
   "language": "python",
   "name": "python3"
  },
  "language_info": {
   "codemirror_mode": {
    "name": "ipython",
    "version": 3
   },
   "file_extension": ".py",
   "mimetype": "text/x-python",
   "name": "python",
   "nbconvert_exporter": "python",
   "pygments_lexer": "ipython3",
   "version": "3.11.11"
  },
  "papermill": {
   "default_parameters": {},
   "duration": 65.921627,
   "end_time": "2025-05-30T17:20:51.464703",
   "environment_variables": {},
   "exception": null,
   "input_path": "__notebook__.ipynb",
   "output_path": "__notebook__.ipynb",
   "parameters": {},
   "start_time": "2025-05-30T17:19:45.543076",
   "version": "2.6.0"
  }
 },
 "nbformat": 4,
 "nbformat_minor": 5
}
